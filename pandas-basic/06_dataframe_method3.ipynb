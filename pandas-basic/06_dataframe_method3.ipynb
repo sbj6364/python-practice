{
  "nbformat": 4,
  "nbformat_minor": 0,
  "metadata": {
    "colab": {
      "name": "06_dataframe_method3.ipynb",
      "provenance": [],
      "authorship_tag": "ABX9TyNSBRpMlTFzWLqPi4W3BbPg",
      "include_colab_link": true
    },
    "kernelspec": {
      "name": "python3",
      "display_name": "Python 3"
    }
  },
  "cells": [
    {
      "cell_type": "markdown",
      "metadata": {
        "id": "view-in-github",
        "colab_type": "text"
      },
      "source": [
        "<a href=\"https://colab.research.google.com/github/sbj6364/python-study/blob/main/pandas-basic/06_dataframe_method3.ipynb\" target=\"_parent\"><img src=\"https://colab.research.google.com/assets/colab-badge.svg\" alt=\"Open In Colab\"/></a>"
      ]
    },
    {
      "cell_type": "markdown",
      "metadata": {
        "id": "Pm8YS4p1m7UW"
      },
      "source": [
        "# 6번 : DataFrame method(3)\n",
        "\n",
        "#### 안내\n",
        "df_B를 이용해서, DataFrame의 index와 columns, values를 각각 추출해내는 코드를 작성해보세요.\n",
        "\n",
        "#### Output\n",
        "~~~\n",
        "Int64Index([0, 1, 2, 3, 4, 5, 6, 7, 8, 9, 10, 11], dtype='int64')\n",
        "Index(['A', 'B', 'C', 'D'], dtype='object')\n",
        "array([['A0', 'B0', 'C0', 'D0'],\n",
        "       ['A1', 'B1', 'C1', 'D1'],\n",
        "       ['A2', 'B2', 'C2', 'D2'],\n",
        "       ['A3', 'B3', 'C3', 'D3'],\n",
        "       ['A4', 'B4', 'C4', 'D4'],\n",
        "       ['A5', 'B5', 'C5', 'D5'],\n",
        "       ['A6', 'B6', 'C6', 'D6'],\n",
        "       ['A7', 'B7', 'C7', 'D7'],\n",
        "       ['A8', 'B8', 'C8', 'D8'],\n",
        "       ['A9', 'B9', 'C9', 'D9'],\n",
        "       ['A10', 'B10', 'C10', 'D10'],\n",
        "       ['A11', 'B11', 'C11', 'D11']], dtype=object)\n",
        "~~~\n",
        "\n"
      ]
    },
    {
      "cell_type": "code",
      "metadata": {
        "id": "74A4r6VuQZPC",
        "colab": {
          "base_uri": "https://localhost:8080/"
        },
        "outputId": "7de18cfd-3b28-47c7-e2ed-3fe306810a23"
      },
      "source": [
        "import pandas as pd\n",
        "import numpy as np\n",
        "\n",
        "df = pd.DataFrame(columns=list('ABCD'))\n",
        "for i in range(12):\n",
        "  df.loc[i] = ['A'+str(i), 'B'+str(i), 'C'+str(i),'D'+str(i)]\n",
        "print(df.index)\n",
        "print(df.columns)\n",
        "df.values"
      ],
      "execution_count": 8,
      "outputs": [
        {
          "output_type": "stream",
          "text": [
            "Int64Index([0, 1, 2, 3, 4, 5, 6, 7, 8, 9, 10, 11], dtype='int64')\n",
            "Index(['A', 'B', 'C', 'D'], dtype='object')\n"
          ],
          "name": "stdout"
        },
        {
          "output_type": "execute_result",
          "data": {
            "text/plain": [
              "array([['A0', 'B0', 'C0', 'D0'],\n",
              "       ['A1', 'B1', 'C1', 'D1'],\n",
              "       ['A2', 'B2', 'C2', 'D2'],\n",
              "       ['A3', 'B3', 'C3', 'D3'],\n",
              "       ['A4', 'B4', 'C4', 'D4'],\n",
              "       ['A5', 'B5', 'C5', 'D5'],\n",
              "       ['A6', 'B6', 'C6', 'D6'],\n",
              "       ['A7', 'B7', 'C7', 'D7'],\n",
              "       ['A8', 'B8', 'C8', 'D8'],\n",
              "       ['A9', 'B9', 'C9', 'D9'],\n",
              "       ['A10', 'B10', 'C10', 'D10'],\n",
              "       ['A11', 'B11', 'C11', 'D11']], dtype=object)"
            ]
          },
          "metadata": {
            "tags": []
          },
          "execution_count": 8
        }
      ]
    }
  ]
}