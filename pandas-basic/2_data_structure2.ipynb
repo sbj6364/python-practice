{
  "nbformat": 4,
  "nbformat_minor": 0,
  "metadata": {
    "colab": {
      "name": "2_data_structure2.ipynb",
      "provenance": [],
      "authorship_tag": "ABX9TyOPd+xUalmlmHCzMDVhoCF4",
      "include_colab_link": true
    },
    "kernelspec": {
      "name": "python3",
      "display_name": "Python 3"
    }
  },
  "cells": [
    {
      "cell_type": "markdown",
      "metadata": {
        "id": "view-in-github",
        "colab_type": "text"
      },
      "source": [
        "<a href=\"https://colab.research.google.com/github/sbj6364/python-study/blob/main/pandas-basic/2_data_structure2.ipynb\" target=\"_parent\"><img src=\"https://colab.research.google.com/assets/colab-badge.svg\" alt=\"Open In Colab\"/></a>"
      ]
    },
    {
      "cell_type": "markdown",
      "metadata": {
        "id": "Pm8YS4p1m7UW"
      },
      "source": [
        "# 2번 : pandas data structure(2)\n",
        "\n",
        "열의 이름은 A, B, C, D이고 각 열마다 5개의 random한(임의의) 숫자를 원소로 하는 DataFrame을 생성하는 코드를 작성해보세요.\n"
      ]
    },
    {
      "cell_type": "code",
      "metadata": {
        "id": "74A4r6VuQZPC",
        "colab": {
          "base_uri": "https://localhost:8080/",
          "height": 204
        },
        "outputId": "5fb3939a-2b6b-4d0a-99d8-a4272b4e8189"
      },
      "source": [
        "import pandas as pd\n",
        "import numpy as np\n",
        "\n",
        "ar = np.random.randn(5,4)\n",
        "df = pd.DataFrame(data = ar, columns=['A','B','C','D'])\n",
        "df"
      ],
      "execution_count": 28,
      "outputs": [
        {
          "output_type": "execute_result",
          "data": {
            "text/html": [
              "<div>\n",
              "<style scoped>\n",
              "    .dataframe tbody tr th:only-of-type {\n",
              "        vertical-align: middle;\n",
              "    }\n",
              "\n",
              "    .dataframe tbody tr th {\n",
              "        vertical-align: top;\n",
              "    }\n",
              "\n",
              "    .dataframe thead th {\n",
              "        text-align: right;\n",
              "    }\n",
              "</style>\n",
              "<table border=\"1\" class=\"dataframe\">\n",
              "  <thead>\n",
              "    <tr style=\"text-align: right;\">\n",
              "      <th></th>\n",
              "      <th>A</th>\n",
              "      <th>B</th>\n",
              "      <th>C</th>\n",
              "      <th>D</th>\n",
              "    </tr>\n",
              "  </thead>\n",
              "  <tbody>\n",
              "    <tr>\n",
              "      <th>0</th>\n",
              "      <td>-0.284655</td>\n",
              "      <td>0.433938</td>\n",
              "      <td>-0.740394</td>\n",
              "      <td>-0.648488</td>\n",
              "    </tr>\n",
              "    <tr>\n",
              "      <th>1</th>\n",
              "      <td>1.693257</td>\n",
              "      <td>0.237932</td>\n",
              "      <td>-0.281334</td>\n",
              "      <td>0.893276</td>\n",
              "    </tr>\n",
              "    <tr>\n",
              "      <th>2</th>\n",
              "      <td>-0.294935</td>\n",
              "      <td>-0.738531</td>\n",
              "      <td>0.208650</td>\n",
              "      <td>-0.582702</td>\n",
              "    </tr>\n",
              "    <tr>\n",
              "      <th>3</th>\n",
              "      <td>0.144320</td>\n",
              "      <td>2.727167</td>\n",
              "      <td>1.042853</td>\n",
              "      <td>0.927423</td>\n",
              "    </tr>\n",
              "    <tr>\n",
              "      <th>4</th>\n",
              "      <td>-0.322084</td>\n",
              "      <td>0.192058</td>\n",
              "      <td>1.125231</td>\n",
              "      <td>-0.250049</td>\n",
              "    </tr>\n",
              "  </tbody>\n",
              "</table>\n",
              "</div>"
            ],
            "text/plain": [
              "          A         B         C         D\n",
              "0 -0.284655  0.433938 -0.740394 -0.648488\n",
              "1  1.693257  0.237932 -0.281334  0.893276\n",
              "2 -0.294935 -0.738531  0.208650 -0.582702\n",
              "3  0.144320  2.727167  1.042853  0.927423\n",
              "4 -0.322084  0.192058  1.125231 -0.250049"
            ]
          },
          "metadata": {
            "tags": []
          },
          "execution_count": 28
        }
      ]
    }
  ]
}