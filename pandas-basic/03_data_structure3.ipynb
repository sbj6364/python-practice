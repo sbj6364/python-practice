{
  "nbformat": 4,
  "nbformat_minor": 0,
  "metadata": {
    "colab": {
      "name": "3_data_structure3.ipynb",
      "provenance": [],
      "authorship_tag": "ABX9TyP3LqAyv4YRO7ONZfFW1GZO",
      "include_colab_link": true
    },
    "kernelspec": {
      "name": "python3",
      "display_name": "Python 3"
    }
  },
  "cells": [
    {
      "cell_type": "markdown",
      "metadata": {
        "id": "view-in-github",
        "colab_type": "text"
      },
      "source": [
        "<a href=\"https://colab.research.google.com/github/sbj6364/python-study/blob/main/pandas-basic/03_data_structure3.ipynb\" target=\"_parent\"><img src=\"https://colab.research.google.com/assets/colab-badge.svg\" alt=\"Open In Colab\"/></a>"
      ]
    },
    {
      "cell_type": "markdown",
      "metadata": {
        "id": "Pm8YS4p1m7UW"
      },
      "source": [
        "# 3번 : pandas data structure(3)\n",
        "\n",
        "\n",
        "#### 안내\n",
        "이번 문제에서 생성한 DataFrame은 pandas 기본 콘텐츠 내에서 계속해서 활용될 예정입니다. 앞으로는 이 DataFrame을 지칭할 때는 df_A 라고 하겠습니다.  \n",
        "\n",
        "\n",
        "2번 문제에서 생성한 DataFrame의 index로 2020년 1월 1일 부터 2020년 1월 5일까지의 날짜를 지정하는 코드를 작성해보세요."
      ]
    },
    {
      "cell_type": "code",
      "metadata": {
        "id": "74A4r6VuQZPC",
        "colab": {
          "base_uri": "https://localhost:8080/",
          "height": 204
        },
        "outputId": "9c29e3a0-7730-41e9-9cc7-6312cdd2d12d"
      },
      "source": [
        "import pandas as pd\n",
        "import numpy as np\n",
        "\n",
        "dt_index = pd.date_range('2020-01-01', periods=5)\n",
        "\n",
        "ar = np.random.randn(5,4)\n",
        "df = pd.DataFrame(data = ar, columns=['A','B','C','D'], index = dt_index)\n",
        "df"
      ],
      "execution_count": 3,
      "outputs": [
        {
          "output_type": "execute_result",
          "data": {
            "text/html": [
              "<div>\n",
              "<style scoped>\n",
              "    .dataframe tbody tr th:only-of-type {\n",
              "        vertical-align: middle;\n",
              "    }\n",
              "\n",
              "    .dataframe tbody tr th {\n",
              "        vertical-align: top;\n",
              "    }\n",
              "\n",
              "    .dataframe thead th {\n",
              "        text-align: right;\n",
              "    }\n",
              "</style>\n",
              "<table border=\"1\" class=\"dataframe\">\n",
              "  <thead>\n",
              "    <tr style=\"text-align: right;\">\n",
              "      <th></th>\n",
              "      <th>A</th>\n",
              "      <th>B</th>\n",
              "      <th>C</th>\n",
              "      <th>D</th>\n",
              "    </tr>\n",
              "  </thead>\n",
              "  <tbody>\n",
              "    <tr>\n",
              "      <th>2020-01-01</th>\n",
              "      <td>1.176241</td>\n",
              "      <td>-1.793799</td>\n",
              "      <td>-0.283778</td>\n",
              "      <td>1.420192</td>\n",
              "    </tr>\n",
              "    <tr>\n",
              "      <th>2020-01-02</th>\n",
              "      <td>-0.340114</td>\n",
              "      <td>0.555427</td>\n",
              "      <td>0.938596</td>\n",
              "      <td>-1.019755</td>\n",
              "    </tr>\n",
              "    <tr>\n",
              "      <th>2020-01-03</th>\n",
              "      <td>1.020995</td>\n",
              "      <td>-0.187063</td>\n",
              "      <td>0.614134</td>\n",
              "      <td>-0.417590</td>\n",
              "    </tr>\n",
              "    <tr>\n",
              "      <th>2020-01-04</th>\n",
              "      <td>1.480290</td>\n",
              "      <td>-1.184348</td>\n",
              "      <td>1.199418</td>\n",
              "      <td>0.531173</td>\n",
              "    </tr>\n",
              "    <tr>\n",
              "      <th>2020-01-05</th>\n",
              "      <td>-0.558697</td>\n",
              "      <td>-1.131352</td>\n",
              "      <td>-0.158508</td>\n",
              "      <td>1.067478</td>\n",
              "    </tr>\n",
              "  </tbody>\n",
              "</table>\n",
              "</div>"
            ],
            "text/plain": [
              "                   A         B         C         D\n",
              "2020-01-01  1.176241 -1.793799 -0.283778  1.420192\n",
              "2020-01-02 -0.340114  0.555427  0.938596 -1.019755\n",
              "2020-01-03  1.020995 -0.187063  0.614134 -0.417590\n",
              "2020-01-04  1.480290 -1.184348  1.199418  0.531173\n",
              "2020-01-05 -0.558697 -1.131352 -0.158508  1.067478"
            ]
          },
          "metadata": {
            "tags": []
          },
          "execution_count": 3
        }
      ]
    }
  ]
}