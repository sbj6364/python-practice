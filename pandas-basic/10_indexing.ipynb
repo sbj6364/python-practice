{
  "nbformat": 4,
  "nbformat_minor": 0,
  "metadata": {
    "colab": {
      "name": "10_indexing.ipynb",
      "provenance": [],
      "authorship_tag": "ABX9TyMmVjEFFxYCfr/9q53zX2ur",
      "include_colab_link": true
    },
    "kernelspec": {
      "name": "python3",
      "display_name": "Python 3"
    }
  },
  "cells": [
    {
      "cell_type": "markdown",
      "metadata": {
        "id": "view-in-github",
        "colab_type": "text"
      },
      "source": [
        "<a href=\"https://colab.research.google.com/github/sbj6364/python-study/blob/main/pandas-basic/10_indexing.ipynb\" target=\"_parent\"><img src=\"https://colab.research.google.com/assets/colab-badge.svg\" alt=\"Open In Colab\"/></a>"
      ]
    },
    {
      "cell_type": "markdown",
      "metadata": {
        "id": "Pm8YS4p1m7UW"
      },
      "source": [
        "# 10번 : indexing\n",
        "\n",
        "df_A를 이용해서, column A(A열)를 출력하는 코드를 작성해보세요.\n"
      ]
    },
    {
      "cell_type": "code",
      "metadata": {
        "colab": {
          "base_uri": "https://localhost:8080/"
        },
        "id": "w4jnQQvodWE6",
        "outputId": "360ad309-2fc9-44ef-eb74-513070dea766"
      },
      "source": [
        "import pandas as pd\n",
        "import numpy as np\n",
        "\n",
        "from datetime import datetime\n",
        "dt_index = pd.date_range('2020-01-01', periods=5)\n",
        "\n",
        "ar = np.random.randn(5,4)\n",
        "df_A = pd.DataFrame(data = ar, columns=['A','B','C','D'], index = dt_index)\n",
        "df_A['A']"
      ],
      "execution_count": 1,
      "outputs": [
        {
          "output_type": "execute_result",
          "data": {
            "text/plain": [
              "2020-01-01   -0.333220\n",
              "2020-01-02   -1.133782\n",
              "2020-01-03    0.757544\n",
              "2020-01-04    0.512290\n",
              "2020-01-05   -0.325158\n",
              "Freq: D, Name: A, dtype: float64"
            ]
          },
          "metadata": {
            "tags": []
          },
          "execution_count": 1
        }
      ]
    }
  ]
}