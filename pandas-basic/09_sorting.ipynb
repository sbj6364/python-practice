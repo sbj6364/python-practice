{
  "nbformat": 4,
  "nbformat_minor": 0,
  "metadata": {
    "colab": {
      "name": "09_sorting.ipynb",
      "provenance": [],
      "authorship_tag": "ABX9TyNotmvbjXchqeVTeP0sI/7r",
      "include_colab_link": true
    },
    "kernelspec": {
      "name": "python3",
      "display_name": "Python 3"
    }
  },
  "cells": [
    {
      "cell_type": "markdown",
      "metadata": {
        "id": "view-in-github",
        "colab_type": "text"
      },
      "source": [
        "<a href=\"https://colab.research.google.com/github/sbj6364/python-study/blob/main/pandas-basic/09_sorting.ipynb\" target=\"_parent\"><img src=\"https://colab.research.google.com/assets/colab-badge.svg\" alt=\"Open In Colab\"/></a>"
      ]
    },
    {
      "cell_type": "markdown",
      "metadata": {
        "id": "Pm8YS4p1m7UW"
      },
      "source": [
        "# 9번 : sorting\n",
        "\n",
        "df_A를 이용해서, column C 기준으로 내림차순 정렬한 결과를 출력하는 코드를 작성해보세요.\n"
      ]
    },
    {
      "cell_type": "code",
      "metadata": {
        "colab": {
          "base_uri": "https://localhost:8080/",
          "height": 204
        },
        "id": "w4jnQQvodWE6",
        "outputId": "6a30180a-7885-41b5-abb3-81d794c106b9"
      },
      "source": [
        "import pandas as pd\n",
        "import numpy as np\n",
        "\n",
        "from datetime import datetime\n",
        "dt_index = pd.date_range('2020-01-01', periods=5)\n",
        "\n",
        "ar = np.random.randn(5,4)\n",
        "df_A = pd.DataFrame(data = ar, columns=['A','B','C','D'], index = dt_index)\n",
        "df_A.sort_values(by=['C'], ascending=False)"
      ],
      "execution_count": 12,
      "outputs": [
        {
          "output_type": "execute_result",
          "data": {
            "text/html": [
              "<div>\n",
              "<style scoped>\n",
              "    .dataframe tbody tr th:only-of-type {\n",
              "        vertical-align: middle;\n",
              "    }\n",
              "\n",
              "    .dataframe tbody tr th {\n",
              "        vertical-align: top;\n",
              "    }\n",
              "\n",
              "    .dataframe thead th {\n",
              "        text-align: right;\n",
              "    }\n",
              "</style>\n",
              "<table border=\"1\" class=\"dataframe\">\n",
              "  <thead>\n",
              "    <tr style=\"text-align: right;\">\n",
              "      <th></th>\n",
              "      <th>A</th>\n",
              "      <th>B</th>\n",
              "      <th>C</th>\n",
              "      <th>D</th>\n",
              "    </tr>\n",
              "  </thead>\n",
              "  <tbody>\n",
              "    <tr>\n",
              "      <th>2020-01-04</th>\n",
              "      <td>-1.860541</td>\n",
              "      <td>-1.512164</td>\n",
              "      <td>0.520773</td>\n",
              "      <td>0.528640</td>\n",
              "    </tr>\n",
              "    <tr>\n",
              "      <th>2020-01-05</th>\n",
              "      <td>-0.233633</td>\n",
              "      <td>0.518929</td>\n",
              "      <td>0.203513</td>\n",
              "      <td>0.635474</td>\n",
              "    </tr>\n",
              "    <tr>\n",
              "      <th>2020-01-03</th>\n",
              "      <td>0.810556</td>\n",
              "      <td>0.079880</td>\n",
              "      <td>0.101574</td>\n",
              "      <td>0.900748</td>\n",
              "    </tr>\n",
              "    <tr>\n",
              "      <th>2020-01-02</th>\n",
              "      <td>-0.703367</td>\n",
              "      <td>1.449825</td>\n",
              "      <td>-0.451756</td>\n",
              "      <td>-0.482077</td>\n",
              "    </tr>\n",
              "    <tr>\n",
              "      <th>2020-01-01</th>\n",
              "      <td>0.833520</td>\n",
              "      <td>0.316508</td>\n",
              "      <td>-0.527102</td>\n",
              "      <td>0.103519</td>\n",
              "    </tr>\n",
              "  </tbody>\n",
              "</table>\n",
              "</div>"
            ],
            "text/plain": [
              "                   A         B         C         D\n",
              "2020-01-04 -1.860541 -1.512164  0.520773  0.528640\n",
              "2020-01-05 -0.233633  0.518929  0.203513  0.635474\n",
              "2020-01-03  0.810556  0.079880  0.101574  0.900748\n",
              "2020-01-02 -0.703367  1.449825 -0.451756 -0.482077\n",
              "2020-01-01  0.833520  0.316508 -0.527102  0.103519"
            ]
          },
          "metadata": {
            "tags": []
          },
          "execution_count": 12
        }
      ]
    }
  ]
}