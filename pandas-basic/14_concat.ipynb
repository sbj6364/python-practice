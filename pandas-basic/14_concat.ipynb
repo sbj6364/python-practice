{
  "nbformat": 4,
  "nbformat_minor": 0,
  "metadata": {
    "colab": {
      "name": "14_concat.ipynb",
      "provenance": [],
      "authorship_tag": "ABX9TyNMkQV0WrejlpHbhHR9NgEv",
      "include_colab_link": true
    },
    "kernelspec": {
      "name": "python3",
      "display_name": "Python 3"
    }
  },
  "cells": [
    {
      "cell_type": "markdown",
      "metadata": {
        "id": "view-in-github",
        "colab_type": "text"
      },
      "source": [
        "<a href=\"https://colab.research.google.com/github/sbj6364/python-study/blob/main/pandas-basic/14_concat.ipynb\" target=\"_parent\"><img src=\"https://colab.research.google.com/assets/colab-badge.svg\" alt=\"Open In Colab\"/></a>"
      ]
    },
    {
      "cell_type": "markdown",
      "metadata": {
        "id": "Pm8YS4p1m7UW"
      },
      "source": [
        "# 14번 : concat\n",
        "\n",
        "데이터에서 주어진 형태가 같은 2개의 DataFrame 을 이용해서,\n",
        "\n",
        "Output처럼 위-아래로 합쳐진 DataFrame을 생성하는 코드를 작성해보세요.\n",
        "\n",
        "#### data\n",
        "~~~\n",
        "\tA\tB\tC\n",
        "0\t1\t3\t5\n",
        "1\t2\t4\t6\n",
        "~~~\n",
        "~~~\n",
        "\tA\tB\tC\n",
        "0\t-1\t-3\t-5\n",
        "1\t-2\t-4\t-6\n",
        "~~~\n"
      ]
    },
    {
      "cell_type": "code",
      "metadata": {
        "colab": {
          "base_uri": "https://localhost:8080/",
          "height": 173
        },
        "id": "w4jnQQvodWE6",
        "outputId": "c9f2c7d9-821a-477b-a46a-770e57cc457d"
      },
      "source": [
        "import pandas as pd\n",
        "import numpy as np\n",
        "\n",
        "ar1 = [[1,3,5],[2,4,6]]\n",
        "ar2 = [[-1,-3,-5],[-2,-4,-6]]\n",
        "df1 = pd.DataFrame(ar1, columns=['A','B','C'])\n",
        "df2 = pd.DataFrame(ar2, columns=['A','B','C'])\n",
        "# df1.append(df2, ignore_index=True)\n",
        "\n",
        "pd.concat([df1, df2], axis=0, ignore_index=True)"
      ],
      "execution_count": 23,
      "outputs": [
        {
          "output_type": "execute_result",
          "data": {
            "text/html": [
              "<div>\n",
              "<style scoped>\n",
              "    .dataframe tbody tr th:only-of-type {\n",
              "        vertical-align: middle;\n",
              "    }\n",
              "\n",
              "    .dataframe tbody tr th {\n",
              "        vertical-align: top;\n",
              "    }\n",
              "\n",
              "    .dataframe thead th {\n",
              "        text-align: right;\n",
              "    }\n",
              "</style>\n",
              "<table border=\"1\" class=\"dataframe\">\n",
              "  <thead>\n",
              "    <tr style=\"text-align: right;\">\n",
              "      <th></th>\n",
              "      <th>A</th>\n",
              "      <th>B</th>\n",
              "      <th>C</th>\n",
              "    </tr>\n",
              "  </thead>\n",
              "  <tbody>\n",
              "    <tr>\n",
              "      <th>0</th>\n",
              "      <td>1</td>\n",
              "      <td>3</td>\n",
              "      <td>5</td>\n",
              "    </tr>\n",
              "    <tr>\n",
              "      <th>1</th>\n",
              "      <td>2</td>\n",
              "      <td>4</td>\n",
              "      <td>6</td>\n",
              "    </tr>\n",
              "    <tr>\n",
              "      <th>2</th>\n",
              "      <td>-1</td>\n",
              "      <td>-3</td>\n",
              "      <td>-5</td>\n",
              "    </tr>\n",
              "    <tr>\n",
              "      <th>3</th>\n",
              "      <td>-2</td>\n",
              "      <td>-4</td>\n",
              "      <td>-6</td>\n",
              "    </tr>\n",
              "  </tbody>\n",
              "</table>\n",
              "</div>"
            ],
            "text/plain": [
              "   A  B  C\n",
              "0  1  3  5\n",
              "1  2  4  6\n",
              "2 -1 -3 -5\n",
              "3 -2 -4 -6"
            ]
          },
          "metadata": {
            "tags": []
          },
          "execution_count": 23
        }
      ]
    }
  ]
}