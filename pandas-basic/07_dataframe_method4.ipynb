{
  "nbformat": 4,
  "nbformat_minor": 0,
  "metadata": {
    "colab": {
      "name": "07_dataframe_method4.ipynb",
      "provenance": [],
      "authorship_tag": "ABX9TyNhoV6TVTbuhZXIyvk1yCH6",
      "include_colab_link": true
    },
    "kernelspec": {
      "name": "python3",
      "display_name": "Python 3"
    }
  },
  "cells": [
    {
      "cell_type": "markdown",
      "metadata": {
        "id": "view-in-github",
        "colab_type": "text"
      },
      "source": [
        "<a href=\"https://colab.research.google.com/github/sbj6364/python-study/blob/main/pandas-basic/07_dataframe_method4.ipynb\" target=\"_parent\"><img src=\"https://colab.research.google.com/assets/colab-badge.svg\" alt=\"Open In Colab\"/></a>"
      ]
    },
    {
      "cell_type": "markdown",
      "metadata": {
        "id": "Pm8YS4p1m7UW"
      },
      "source": [
        "# 7번 : DataFrame method(4)\n",
        "\n",
        "#### 안내\n",
        "df_B를 이용해서, DataFrame의 요약 정보를 출력하는 코드를 작성해보세요.\n",
        "\n",
        "#### Output\n",
        "~~~\n",
        "<class 'pandas.core.frame.DataFrame'>\n",
        "Int64Index: 12 entries, 0 to 11\n",
        "Data columns (total 4 columns):\n",
        " #   Column  Non-Null Count  Dtype \n",
        "---  ------  --------------  ----- \n",
        " 0   A       12 non-null     object\n",
        " 1   B       12 non-null     object\n",
        " 2   C       12 non-null     object\n",
        " 3   D       12 non-null     object\n",
        "dtypes: object(4)\n",
        "memory usage: 480.0+ bytes\n",
        "~~~\n",
        "\n"
      ]
    },
    {
      "cell_type": "code",
      "metadata": {
        "id": "74A4r6VuQZPC",
        "colab": {
          "base_uri": "https://localhost:8080/"
        },
        "outputId": "53b5b8ce-788b-4cb0-9682-44d1aed37251"
      },
      "source": [
        "import pandas as pd\n",
        "import numpy as np\n",
        "\n",
        "df = pd.DataFrame(columns=list('ABCD'))\n",
        "for i in range(12):\n",
        "  df.loc[i] = ['A'+str(i), 'B'+str(i), 'C'+str(i),'D'+str(i)]\n",
        "\n",
        "df.info()"
      ],
      "execution_count": 10,
      "outputs": [
        {
          "output_type": "stream",
          "text": [
            "<class 'pandas.core.frame.DataFrame'>\n",
            "Int64Index: 12 entries, 0 to 11\n",
            "Data columns (total 4 columns):\n",
            " #   Column  Non-Null Count  Dtype \n",
            "---  ------  --------------  ----- \n",
            " 0   A       12 non-null     object\n",
            " 1   B       12 non-null     object\n",
            " 2   C       12 non-null     object\n",
            " 3   D       12 non-null     object\n",
            "dtypes: object(4)\n",
            "memory usage: 480.0+ bytes\n"
          ],
          "name": "stdout"
        }
      ]
    }
  ]
}