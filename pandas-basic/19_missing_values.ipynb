{
  "nbformat": 4,
  "nbformat_minor": 0,
  "metadata": {
    "colab": {
      "name": "19_missing_values.ipynb",
      "provenance": [],
      "toc_visible": true,
      "authorship_tag": "ABX9TyOV3SCBKD0shJJeXv22mYD2",
      "include_colab_link": true
    },
    "kernelspec": {
      "name": "python3",
      "display_name": "Python 3"
    }
  },
  "cells": [
    {
      "cell_type": "markdown",
      "metadata": {
        "id": "view-in-github",
        "colab_type": "text"
      },
      "source": [
        "<a href=\"https://colab.research.google.com/github/sbj6364/python-study/blob/main/pandas-basic/19_missing_values.ipynb\" target=\"_parent\"><img src=\"https://colab.research.google.com/assets/colab-badge.svg\" alt=\"Open In Colab\"/></a>"
      ]
    },
    {
      "cell_type": "markdown",
      "metadata": {
        "id": "Pm8YS4p1m7UW"
      },
      "source": [
        "# 19번 : missing values\n",
        "\n",
        "#### 안내\n",
        "이번 문제에서 만들어지는 데이터는 4문제(19번~22번) 연속으로 사용될 것이기 때문에, DataFrame 원본을 훼손하지 않고 새로운 DataFrame 에 담아 작업해주세요. 앞으로는 이 DataFrame을 지칭할 때는 `df_C` 라고 하겠습니다.\n",
        "16번에서 불러온 데이터를 다음과 같이 수정하는 코드를 작성해보세요.\n",
        "\n",
        "#### 문제\n",
        "다음 파일의 데이터를 읽어와서, `NaN`(Not a Number)로 처리되어 있는 행을 모두 제거하는 코드를 작성하세요.\n",
        "\n",
        "#### 데이터\n",
        "[여기](https://future-test-bucket.s3.ap-northeast-2.amazonaws.com/operation/DA001/n19/toy.xlsx)를 눌러서 데이터를 다운받아주세요.\n",
        "이 데이터는 결측치가 존재하는 표 형식의 데이터 입니다.\n",
        "\n",
        "#### output 참고\n",
        "[FutureSkill 19](https://futureskill.io/content/903ab63c-2b24-4be0-ba1c-a3ba34dce258/question/485fc3c8-778b-4ae1-a247-12dbe64a302c)"
      ]
    },
    {
      "cell_type": "code",
      "metadata": {
        "colab": {
          "base_uri": "https://localhost:8080/",
          "height": 142
        },
        "id": "w4jnQQvodWE6",
        "outputId": "feb10b70-147b-4aa3-b0ad-5b1145e73d8d"
      },
      "source": [
        "import pandas as pd\n",
        "import numpy as np\n",
        "\n",
        "df = pd.read_excel('toy.xlsx')\n",
        "df1 = df.dropna()\n",
        "df1"
      ],
      "execution_count": 3,
      "outputs": [
        {
          "output_type": "execute_result",
          "data": {
            "text/html": [
              "<div>\n",
              "<style scoped>\n",
              "    .dataframe tbody tr th:only-of-type {\n",
              "        vertical-align: middle;\n",
              "    }\n",
              "\n",
              "    .dataframe tbody tr th {\n",
              "        vertical-align: top;\n",
              "    }\n",
              "\n",
              "    .dataframe thead th {\n",
              "        text-align: right;\n",
              "    }\n",
              "</style>\n",
              "<table border=\"1\" class=\"dataframe\">\n",
              "  <thead>\n",
              "    <tr style=\"text-align: right;\">\n",
              "      <th></th>\n",
              "      <th>A</th>\n",
              "      <th>B</th>\n",
              "      <th>C</th>\n",
              "    </tr>\n",
              "  </thead>\n",
              "  <tbody>\n",
              "    <tr>\n",
              "      <th>0</th>\n",
              "      <td>1.0</td>\n",
              "      <td>-1.0</td>\n",
              "      <td>2.0</td>\n",
              "    </tr>\n",
              "    <tr>\n",
              "      <th>2</th>\n",
              "      <td>3.0</td>\n",
              "      <td>-3.0</td>\n",
              "      <td>4.0</td>\n",
              "    </tr>\n",
              "    <tr>\n",
              "      <th>3</th>\n",
              "      <td>4.0</td>\n",
              "      <td>-4.0</td>\n",
              "      <td>7.0</td>\n",
              "    </tr>\n",
              "  </tbody>\n",
              "</table>\n",
              "</div>"
            ],
            "text/plain": [
              "     A    B    C\n",
              "0  1.0 -1.0  2.0\n",
              "2  3.0 -3.0  4.0\n",
              "3  4.0 -4.0  7.0"
            ]
          },
          "metadata": {
            "tags": []
          },
          "execution_count": 3
        }
      ]
    }
  ]
}