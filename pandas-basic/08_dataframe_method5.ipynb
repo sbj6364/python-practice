{
  "nbformat": 4,
  "nbformat_minor": 0,
  "metadata": {
    "colab": {
      "name": "08_dataframe_method5.ipynb",
      "provenance": [],
      "authorship_tag": "ABX9TyMm5/FZ7W2u7b/ih171TKMt",
      "include_colab_link": true
    },
    "kernelspec": {
      "name": "python3",
      "display_name": "Python 3"
    }
  },
  "cells": [
    {
      "cell_type": "markdown",
      "metadata": {
        "id": "view-in-github",
        "colab_type": "text"
      },
      "source": [
        "<a href=\"https://colab.research.google.com/github/sbj6364/python-study/blob/main/pandas-basic/08_dataframe_method5.ipynb\" target=\"_parent\"><img src=\"https://colab.research.google.com/assets/colab-badge.svg\" alt=\"Open In Colab\"/></a>"
      ]
    },
    {
      "cell_type": "markdown",
      "metadata": {
        "id": "Pm8YS4p1m7UW"
      },
      "source": [
        "# 8번 : DataFrame method(5)\n",
        "\n",
        "#### 안내\n",
        "df_A를 이용해서, 해당 DataFrame의 전체적인 통계량(통계정보)을 보여주는 코드를 작성해보세요.\n",
        "\n"
      ]
    },
    {
      "cell_type": "code",
      "metadata": {
        "colab": {
          "base_uri": "https://localhost:8080/",
          "height": 297
        },
        "id": "w4jnQQvodWE6",
        "outputId": "87ffde2c-c331-4f05-b5fb-1a1a04eb605d"
      },
      "source": [
        "import pandas as pd\n",
        "import numpy as np\n",
        "\n",
        "from datetime import datetime\n",
        "dt_index = pd.date_range('2020-01-01', periods=5)\n",
        "\n",
        "ar = np.random.randn(5,4)\n",
        "df_A = pd.DataFrame(data = ar, columns=['A','B','C','D'], index = dt_index)\n",
        "df_A.describe()"
      ],
      "execution_count": 1,
      "outputs": [
        {
          "output_type": "execute_result",
          "data": {
            "text/html": [
              "<div>\n",
              "<style scoped>\n",
              "    .dataframe tbody tr th:only-of-type {\n",
              "        vertical-align: middle;\n",
              "    }\n",
              "\n",
              "    .dataframe tbody tr th {\n",
              "        vertical-align: top;\n",
              "    }\n",
              "\n",
              "    .dataframe thead th {\n",
              "        text-align: right;\n",
              "    }\n",
              "</style>\n",
              "<table border=\"1\" class=\"dataframe\">\n",
              "  <thead>\n",
              "    <tr style=\"text-align: right;\">\n",
              "      <th></th>\n",
              "      <th>A</th>\n",
              "      <th>B</th>\n",
              "      <th>C</th>\n",
              "      <th>D</th>\n",
              "    </tr>\n",
              "  </thead>\n",
              "  <tbody>\n",
              "    <tr>\n",
              "      <th>count</th>\n",
              "      <td>5.000000</td>\n",
              "      <td>5.000000</td>\n",
              "      <td>5.000000</td>\n",
              "      <td>5.000000</td>\n",
              "    </tr>\n",
              "    <tr>\n",
              "      <th>mean</th>\n",
              "      <td>-0.421105</td>\n",
              "      <td>1.075652</td>\n",
              "      <td>-0.121006</td>\n",
              "      <td>-0.431249</td>\n",
              "    </tr>\n",
              "    <tr>\n",
              "      <th>std</th>\n",
              "      <td>1.574468</td>\n",
              "      <td>1.176717</td>\n",
              "      <td>1.146150</td>\n",
              "      <td>1.381797</td>\n",
              "    </tr>\n",
              "    <tr>\n",
              "      <th>min</th>\n",
              "      <td>-2.983254</td>\n",
              "      <td>-0.112616</td>\n",
              "      <td>-1.346221</td>\n",
              "      <td>-2.732624</td>\n",
              "    </tr>\n",
              "    <tr>\n",
              "      <th>25%</th>\n",
              "      <td>-0.691609</td>\n",
              "      <td>-0.000457</td>\n",
              "      <td>-1.232644</td>\n",
              "      <td>-0.501087</td>\n",
              "    </tr>\n",
              "    <tr>\n",
              "      <th>50%</th>\n",
              "      <td>-0.098922</td>\n",
              "      <td>1.254814</td>\n",
              "      <td>-0.018386</td>\n",
              "      <td>-0.034525</td>\n",
              "    </tr>\n",
              "    <tr>\n",
              "      <th>75%</th>\n",
              "      <td>0.726935</td>\n",
              "      <td>1.500807</td>\n",
              "      <td>0.920877</td>\n",
              "      <td>0.217209</td>\n",
              "    </tr>\n",
              "    <tr>\n",
              "      <th>max</th>\n",
              "      <td>0.941326</td>\n",
              "      <td>2.735713</td>\n",
              "      <td>1.071342</td>\n",
              "      <td>0.894781</td>\n",
              "    </tr>\n",
              "  </tbody>\n",
              "</table>\n",
              "</div>"
            ],
            "text/plain": [
              "              A         B         C         D\n",
              "count  5.000000  5.000000  5.000000  5.000000\n",
              "mean  -0.421105  1.075652 -0.121006 -0.431249\n",
              "std    1.574468  1.176717  1.146150  1.381797\n",
              "min   -2.983254 -0.112616 -1.346221 -2.732624\n",
              "25%   -0.691609 -0.000457 -1.232644 -0.501087\n",
              "50%   -0.098922  1.254814 -0.018386 -0.034525\n",
              "75%    0.726935  1.500807  0.920877  0.217209\n",
              "max    0.941326  2.735713  1.071342  0.894781"
            ]
          },
          "metadata": {
            "tags": []
          },
          "execution_count": 1
        }
      ]
    }
  ]
}