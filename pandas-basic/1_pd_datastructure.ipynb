{
  "nbformat": 4,
  "nbformat_minor": 0,
  "metadata": {
    "colab": {
      "name": "1_.ipynb",
      "provenance": [],
      "authorship_tag": "ABX9TyOWg1wAodVuJj0+m6PQcI5J",
      "include_colab_link": true
    },
    "kernelspec": {
      "name": "python3",
      "display_name": "Python 3"
    }
  },
  "cells": [
    {
      "cell_type": "markdown",
      "metadata": {
        "id": "view-in-github",
        "colab_type": "text"
      },
      "source": [
        "<a href=\"https://colab.research.google.com/github/sbj6364/python-study/blob/main/pandas-basic/1_pd_datastructure.ipynb\" target=\"_parent\"><img src=\"https://colab.research.google.com/assets/colab-badge.svg\" alt=\"Open In Colab\"/></a>"
      ]
    },
    {
      "cell_type": "markdown",
      "metadata": {
        "id": "Pm8YS4p1m7UW"
      },
      "source": [
        "# 1번 : pandas data structure\n",
        "\n",
        "주어진 Python list L 을 Pandas series 로 변환하는 코드를 작성해보세요.\n",
        "  \n",
        "#### 베이스라인\n",
        "~~~python\n",
        "import pandas as pd\n",
        "\n",
        "L = [1, 2, 3, 4, 5]\n",
        "\n",
        "'''\n",
        "code here\n",
        "'''\n",
        "~~~\n",
        "#### Output\n",
        "~~~\n",
        "0    1\n",
        "1    2\n",
        "2    3\n",
        "3    4\n",
        "4    5\n",
        "dtype: int64\n",
        "~~~\n",
        "\n"
      ]
    },
    {
      "cell_type": "code",
      "metadata": {
        "id": "74A4r6VuQZPC",
        "colab": {
          "base_uri": "https://localhost:8080/"
        },
        "outputId": "68af4173-22a9-4913-de55-34ab017ee5a8"
      },
      "source": [
        "import pandas as pd\n",
        "\n",
        "L = [1, 2, 3, 4, 5]\n",
        "L = pd.Series(L)\n",
        "L"
      ],
      "execution_count": 2,
      "outputs": [
        {
          "output_type": "execute_result",
          "data": {
            "text/plain": [
              "0    1\n",
              "1    2\n",
              "2    3\n",
              "3    4\n",
              "4    5\n",
              "dtype: int64"
            ]
          },
          "metadata": {
            "tags": []
          },
          "execution_count": 2
        }
      ]
    }
  ]
}