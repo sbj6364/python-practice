{
  "nbformat": 4,
  "nbformat_minor": 0,
  "metadata": {
    "colab": {
      "name": "4_creation4.ipynb",
      "provenance": [],
      "authorship_tag": "ABX9TyPTi+AvtPHLytbeCM5SOnfB",
      "include_colab_link": true
    },
    "kernelspec": {
      "name": "python3",
      "display_name": "Python 3"
    },
    "language_info": {
      "name": "python"
    }
  },
  "cells": [
    {
      "cell_type": "markdown",
      "metadata": {
        "id": "view-in-github",
        "colab_type": "text"
      },
      "source": [
        "<a href=\"https://colab.research.google.com/github/sbj6364/python-practice/blob/main/5_creation5.ipynb\" target=\"_parent\"><img src=\"https://colab.research.google.com/assets/colab-badge.svg\" alt=\"Open In Colab\"/></a>"
      ]
    },
    {
      "cell_type": "markdown",
      "metadata": {
        "id": "_Ct_m_uatHBM"
      },
      "source": [
        "# 5번 : creation(5)\n",
        "\n",
        "0부터 1 사이의 실수를 0.1 간격으로 가지는 원소로 하는 numpy array를 생성하는 코드를 작성해보세요.\n",
        "\n",
        "#### Output\n",
        "`array([0., 0.1, 0.2, 0.3, 0.4, ..., 0.9, 1.])`\n"
      ]
    },
    {
      "cell_type": "code",
      "metadata": {
        "colab": {
          "base_uri": "https://localhost:8080/"
        },
        "id": "GKyzot1HlBa8",
        "outputId": "a749b4b6-2901-4195-9ed0-90e0f56b813b"
      },
      "source": [
        "#5\n",
        "import numpy as np\n",
        "\n",
        "a = np.arange(0.1,1,0.1,dtype=float)\n",
        "a"
      ],
      "execution_count": 6,
      "outputs": [
        {
          "output_type": "execute_result",
          "data": {
            "text/plain": [
              "array([0.1, 0.2, 0.3, 0.4, 0.5, 0.6, 0.7, 0.8, 0.9])"
            ]
          },
          "metadata": {
            "tags": []
          },
          "execution_count": 6
        }
      ]
    }
  ]
}