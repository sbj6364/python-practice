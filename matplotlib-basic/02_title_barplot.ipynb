{
  "nbformat": 4,
  "nbformat_minor": 0,
  "metadata": {
    "colab": {
      "name": "02_title_barplot.ipynb",
      "provenance": [],
      "authorship_tag": "ABX9TyPRqNQWxvMi4R9EM0uJq1Ln",
      "include_colab_link": true
    },
    "kernelspec": {
      "name": "python3",
      "display_name": "Python 3"
    },
    "language_info": {
      "name": "python"
    }
  },
  "cells": [
    {
      "cell_type": "markdown",
      "metadata": {
        "id": "view-in-github",
        "colab_type": "text"
      },
      "source": [
        "<a href=\"https://colab.research.google.com/github/sbj6364/python-study/blob/main/matplotlib-basic/02_title_barplot.ipynb\" target=\"_parent\"><img src=\"https://colab.research.google.com/assets/colab-badge.svg\" alt=\"Open In Colab\"/></a>"
      ]
    },
    {
      "cell_type": "markdown",
      "metadata": {
        "id": "Pm8YS4p1m7UW"
      },
      "source": [
        "# 2번 : 제목과 bar plot\n",
        "\n",
        "주어진 베이스라인을 이용해 바 그래프(bar plot)을 그리고 제목(title)을 붙이세요.\n",
        "(단, pyplot 방식 사용)\n",
        "\n",
        "#### 베이스라인\n",
        "~~~python\n",
        "import matplotlib.pyplot as plt\n",
        "# matplotlib의 pyplot모듈을 plt라는 이름으로 사용\n",
        "\n",
        "#data\n",
        "X = [0, 1, 2, 3, 4]\n",
        "Y = [10, 20, 50, 40, 60]\n",
        "title = \"Revenue (1000 $)\"\n",
        "\n",
        "#plot\n",
        "'''\n",
        "code here\n",
        "'''\n",
        "\n",
        "plt.savefig(파일 이름)\n",
        "# 파일 이름으로 그림 저장\n",
        "~~~\n"
      ]
    },
    {
      "cell_type": "code",
      "metadata": {
        "id": "74A4r6VuQZPC",
        "colab": {
          "base_uri": "https://localhost:8080/",
          "height": 281
        },
        "outputId": "20cb3c00-16f4-48ad-c4e5-3016573dec97"
      },
      "source": [
        "import matplotlib.pyplot as plt\n",
        "\n",
        "X = [0, 1, 2, 3, 4]\n",
        "Y = [10, 20, 50, 40, 60]\n",
        "title = \"Revenue (1000 $)\"\n",
        "\n",
        "plt.bar(X,Y)\n",
        "plt.title(title)\n",
        "\n",
        "plt.savefig(\"title\") "
      ],
      "execution_count": 9,
      "outputs": [
        {
          "output_type": "display_data",
          "data": {
            "image/png": "[encoded data removed]",
            "text/plain": [
              "<Figure size 432x288 with 1 Axes>"
            ]
          },
          "metadata": {
            "tags": [],
            "needs_background": "light"
          }
        }
      ]
    }
  ]
}