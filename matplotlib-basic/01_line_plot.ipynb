{
  "nbformat": 4,
  "nbformat_minor": 0,
  "metadata": {
    "colab": {
      "name": "01_line_plot.ipynb",
      "provenance": [],
      "authorship_tag": "ABX9TyM0xaFtEd59acr38duQvCml",
      "include_colab_link": true
    },
    "kernelspec": {
      "name": "python3",
      "display_name": "Python 3"
    },
    "language_info": {
      "name": "python"
    }
  },
  "cells": [
    {
      "cell_type": "markdown",
      "metadata": {
        "id": "view-in-github",
        "colab_type": "text"
      },
      "source": [
        "<a href=\"https://colab.research.google.com/github/sbj6364/python-study/blob/main/matplotlib-basic/01_line_plot.ipynb\" target=\"_parent\"><img src=\"https://colab.research.google.com/assets/colab-badge.svg\" alt=\"Open In Colab\"/></a>"
      ]
    },
    {
      "cell_type": "markdown",
      "metadata": {
        "id": "Pm8YS4p1m7UW"
      },
      "source": [
        "# 1번 : 기본적인 line plot\n",
        "\n",
        "주어진 베이스라인을 이용해 다음과 같은 선 그래프(line plot)을 그리세요.\n",
        "(단, pyplot 방식 사용)\n",
        "\n",
        "#### 베이스라인\n",
        "~~~python\n",
        "import matplotlib.pyplot as plt\n",
        "# matplotlib의 pyplot모듈을 plt라는 이름으로 사용\n",
        "\n",
        "#data\n",
        "X = [0, 1, 2, 3, 4]\n",
        "Y = [10, 20, 50, 40, 60]\n",
        "\n",
        "#plot\n",
        "'''\n",
        "code here\n",
        "'''\n",
        "\n",
        "plt.savefig(파일 이름)\n",
        "# 파일 이름으로 그림을 저장\n",
        "~~~\n",
        "\n"
      ]
    },
    {
      "cell_type": "code",
      "metadata": {
        "id": "74A4r6VuQZPC",
        "colab": {
          "base_uri": "https://localhost:8080/",
          "height": 265
        },
        "outputId": "6aa843f1-1199-4aef-e82d-d07d5cb6ebfd"
      },
      "source": [
        "import matplotlib.pyplot as plt\n",
        "\n",
        "X = [0, 1, 2, 3, 4]\n",
        "Y = [10, 20, 50, 40, 60]\n",
        "\n",
        "plt.plot(X,Y)\n",
        "plt.savefig('line plot')"
      ],
      "execution_count": 2,
      "outputs": [
        {
          "output_type": "display_data",
          "data": {
            "image/png": "[encoded data removed]",
            "text/plain": [
              "<Figure size 432x288 with 1 Axes>"
            ]
          },
          "metadata": {
            "tags": [],
            "needs_background": "light"
          }
        }
      ]
    }
  ]
}