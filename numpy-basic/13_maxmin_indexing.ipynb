{
  "nbformat": 4,
  "nbformat_minor": 0,
  "metadata": {
    "colab": {
      "name": "13_maxmin_indexing.ipynb",
      "provenance": [],
      "authorship_tag": "ABX9TyNMjnjtFqgtd1aMpbQdFDpN",
      "include_colab_link": true
    },
    "kernelspec": {
      "name": "python3",
      "display_name": "Python 3"
    },
    "language_info": {
      "name": "python"
    }
  },
  "cells": [
    {
      "cell_type": "markdown",
      "metadata": {
        "id": "view-in-github",
        "colab_type": "text"
      },
      "source": [
        "<a href=\"https://colab.research.google.com/github/sbj6364/python-practice/blob/main/numpy-basic/13_maxmin_indexing.ipynb\" target=\"_parent\"><img src=\"https://colab.research.google.com/assets/colab-badge.svg\" alt=\"Open In Colab\"/></a>"
      ]
    },
    {
      "cell_type": "markdown",
      "metadata": {
        "id": "_Ct_m_uatHBM"
      },
      "source": [
        "# 13번 : max min indexing\n",
        "\n",
        "주어진 numpy array의 최소값과 최대값에 해당하는 원소의 index를 찾아서 출력하는 코드를 작성해보세요.\n",
        "\n",
        "  \n",
        "#### 베이스라인\n",
        "~~~python\n",
        "arr = np.array([1, 33, 5502, 221, -591, 0, -9, 50491])\n",
        "\n",
        "'''\n",
        "code here\n",
        "'''\n",
        "\n",
        "print(\"index of min :  #code here  \")\n",
        "print(\"index of max :  #code here  \")\n",
        "~~~\n",
        "#### Output\n",
        "~~~\n",
        "index of min : 4\n",
        "index of max : 7\n",
        "~~~\n",
        "\n",
        "\n",
        "\n",
        "\n"
      ]
    },
    {
      "cell_type": "code",
      "metadata": {
        "colab": {
          "base_uri": "https://localhost:8080/"
        },
        "id": "-Vr2IwYG1OzJ",
        "outputId": "28229061-5e52-426e-ca35-44ea8a5672fd"
      },
      "source": [
        "import numpy as np\n",
        "import numpy.ma as ma\n",
        "arr = np.array([1, 33, 5502, 221, -591, 0, -9, 50491])\n",
        "M = np.argmax(arr)\n",
        "m = np.argmin(arr)\n",
        "print(f\"index of min : {m}\")\n",
        "print(f\"index of max : {M}\")"
      ],
      "execution_count": 36,
      "outputs": [
        {
          "output_type": "stream",
          "text": [
            "index of min : 4\n",
            "index of max : 7\n"
          ],
          "name": "stdout"
        }
      ]
    }
  ]
}