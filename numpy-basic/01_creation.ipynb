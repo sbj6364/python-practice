{
  "nbformat": 4,
  "nbformat_minor": 0,
  "metadata": {
    "colab": {
      "name": "1_creation.ipynb",
      "provenance": [],
      "authorship_tag": "ABX9TyO+mgRhD35ivIRrlTMXt3wA",
      "include_colab_link": true
    },
    "kernelspec": {
      "name": "python3",
      "display_name": "Python 3"
    },
    "language_info": {
      "name": "python"
    }
  },
  "cells": [
    {
      "cell_type": "markdown",
      "metadata": {
        "id": "view-in-github",
        "colab_type": "text"
      },
      "source": [
        "<a href=\"https://colab.research.google.com/github/sbj6364/python-practice/blob/main/numpy-basic/1_creation.ipynb\" target=\"_parent\"><img src=\"https://colab.research.google.com/assets/colab-badge.svg\" alt=\"Open In Colab\"/></a>"
      ]
    },
    {
      "cell_type": "markdown",
      "metadata": {
        "id": "_Ct_m_uatHBM"
      },
      "source": [
        "#1번 : creation\n",
        "\n",
        "주어진 Python list L 을 이용하여 Numpy array로 변환하는 코드를 작성해보세요.\n",
        "\n",
        "#### 베이스라인\n",
        "~~~python\n",
        "L = [1, 2, 3, 4, 5]\n",
        "\n",
        "'''\n",
        "code here\n",
        "'''\n",
        "~~~"
      ]
    },
    {
      "cell_type": "code",
      "metadata": {
        "colab": {
          "base_uri": "https://localhost:8080/"
        },
        "id": "GKyzot1HlBa8",
        "outputId": "f99828d7-d723-4a96-9749-0a9c7da304ee"
      },
      "source": [
        "#1\n",
        "import numpy as np\n",
        "L = [1, 2, 3, 4, 5]\n",
        "\n",
        "a = np.array(L)\n",
        "print(a)"
      ],
      "execution_count": 3,
      "outputs": [
        {
          "output_type": "stream",
          "text": [
            "[1 2 3 4 5]\n"
          ],
          "name": "stdout"
        }
      ]
    }
  ]
}
