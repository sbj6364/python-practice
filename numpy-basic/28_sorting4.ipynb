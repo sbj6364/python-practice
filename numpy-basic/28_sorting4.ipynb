{
  "nbformat": 4,
  "nbformat_minor": 0,
  "metadata": {
    "colab": {
      "name": "28_sorting4.ipynb",
      "provenance": [],
      "collapsed_sections": [],
      "authorship_tag": "ABX9TyPh60JCichJPhaoO1kbdjFd",
      "include_colab_link": true
    },
    "kernelspec": {
      "name": "python3",
      "display_name": "Python 3"
    },
    "language_info": {
      "name": "python"
    }
  },
  "cells": [
    {
      "cell_type": "markdown",
      "metadata": {
        "id": "view-in-github",
        "colab_type": "text"
      },
      "source": [
        "<a href=\"https://colab.research.google.com/github/sbj6364/python-study/blob/main/numpy-basic/28_sorting4.ipynb\" target=\"_parent\"><img src=\"https://colab.research.google.com/assets/colab-badge.svg\" alt=\"Open In Colab\"/></a>"
      ]
    },
    {
      "cell_type": "markdown",
      "metadata": {
        "id": "_Ct_m_uatHBM"
      },
      "source": [
        "# 28번 : sorting(4)\n",
        "\n",
        "행렬 형태로 주어진 numpy array를 열별로 내림차순 정렬하는 코드를 작성해보세요.\n",
        "  \n",
        "#### 베이스라인\n",
        "~~~python\n",
        "mat = np.array([[1, -1, 3],\n",
        "               [4, 3, -6],\n",
        "               [0, 11, 9]])\n",
        "\n",
        "'''\n",
        "code here\n",
        "'''\n",
        "~~~\n",
        "#### Output\n",
        "~~~\n",
        "array([[4, 11, 9],\n",
        "      [1, 3, 3],\n",
        "      [0, -1, -6]])\n",
        "~~~\n",
        "\n"
      ]
    },
    {
      "cell_type": "code",
      "metadata": {
        "colab": {
          "base_uri": "https://localhost:8080/"
        },
        "id": "-Vr2IwYG1OzJ",
        "outputId": "6b65c721-30d3-414a-bcb9-6ab0c2511149"
      },
      "source": [
        "import numpy as np\n",
        "mat = np.array([[1, -1, 3],\n",
        "               [4, 3, -6],\n",
        "               [0, 11, 9]])\n",
        "\n",
        "np.sort(mat, axis=0)[::-1]"
      ],
      "execution_count": 15,
      "outputs": [
        {
          "output_type": "execute_result",
          "data": {
            "text/plain": [
              "array([[ 4, 11,  9],\n",
              "       [ 1,  3,  3],\n",
              "       [ 0, -1, -6]])"
            ]
          },
          "metadata": {
            "tags": []
          },
          "execution_count": 15
        }
      ]
    }
  ]
}