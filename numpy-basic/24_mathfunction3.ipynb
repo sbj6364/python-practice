{
  "nbformat": 4,
  "nbformat_minor": 0,
  "metadata": {
    "colab": {
      "name": "24_mathfunction3.ipynb",
      "provenance": [],
      "collapsed_sections": [],
      "authorship_tag": "ABX9TyOnXxx9OIEA6XJeDC8nFsqo",
      "include_colab_link": true
    },
    "kernelspec": {
      "name": "python3",
      "display_name": "Python 3"
    },
    "language_info": {
      "name": "python"
    }
  },
  "cells": [
    {
      "cell_type": "markdown",
      "metadata": {
        "id": "view-in-github",
        "colab_type": "text"
      },
      "source": [
        "<a href=\"https://colab.research.google.com/github/sbj6364/python-study/blob/main/numpy-basic/24_mathfunction3.ipynb\" target=\"_parent\"><img src=\"https://colab.research.google.com/assets/colab-badge.svg\" alt=\"Open In Colab\"/></a>"
      ]
    },
    {
      "cell_type": "markdown",
      "metadata": {
        "id": "_Ct_m_uatHBM"
      },
      "source": [
        "# 24번 : math function(3)\n",
        "\n",
        "사용자에게 입력받은 양수(logx 의 정의역 x는 양수로 정의됩니다.)인 실수 x에 대하여 e^x, logx 값을 구하는 코드를 작성해보세요.\n",
        "\n",
        "(단, numpy 라이브러리 함수를 이용하세요.)\n",
        "  \n",
        "#### 베이스라인\n",
        "~~~python\n",
        "#x = np.abs(float(input(\"Number? : \")))\n",
        "x = 3.14\n",
        "\n",
        "'''\n",
        "code here\n",
        "'''\n",
        "~~~\n",
        "#### Output\n",
        "~~~\n",
        "exp(3.14) : 23.1038\n",
        "log(3.14) : 0.4969\n",
        "~~~\n",
        "\n",
        "\n",
        "\n"
      ]
    },
    {
      "cell_type": "code",
      "metadata": {
        "colab": {
          "base_uri": "https://localhost:8080/"
        },
        "id": "-Vr2IwYG1OzJ",
        "outputId": "24943b54-55ae-468e-c6ab-c50755a5dc3c"
      },
      "source": [
        "import numpy as np\n",
        "\n",
        "x = np.abs(float(input(\"Number? : \")))\n",
        "\n",
        "print('exp('+ str(x) + ') :', '%.4f' %np.exp(x))\n",
        "print('log('+ str(x) + ') :', '%.4f' %np.log10(x))"
      ],
      "execution_count": 4,
      "outputs": [
        {
          "output_type": "stream",
          "text": [
            "Number? : 3.14\n",
            "exp(3.14) : 23.1039\n",
            "log(3.14) : 0.4969\n"
          ],
          "name": "stdout"
        }
      ]
    }
  ]
}