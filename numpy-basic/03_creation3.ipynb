{
  "nbformat": 4,
  "nbformat_minor": 0,
  "metadata": {
    "colab": {
      "name": "3_creation3.ipynb",
      "provenance": [],
      "authorship_tag": "ABX9TyNhjCsYpyiYACODgcielnDC",
      "include_colab_link": true
    },
    "kernelspec": {
      "name": "python3",
      "display_name": "Python 3"
    },
    "language_info": {
      "name": "python"
    }
  },
  "cells": [
    {
      "cell_type": "markdown",
      "metadata": {
        "id": "view-in-github",
        "colab_type": "text"
      },
      "source": [
        "<a href=\"https://colab.research.google.com/github/sbj6364/python-practice/blob/main/numpy-basic/3_creation3.ipynb\" target=\"_parent\"><img src=\"https://colab.research.google.com/assets/colab-badge.svg\" alt=\"Open In Colab\"/></a>"
      ]
    },
    {
      "cell_type": "markdown",
      "metadata": {
        "id": "_Ct_m_uatHBM"
      },
      "source": [
        "#3번 : creation(3)\n",
        "\n",
        "원소가 모두 32bytes 사이즈의 float 타입을 가지는 numpy array를 생성하는 코드를 작성해보세요.\n",
        "\n",
        "\n",
        "#### 베이스라인\n",
        "~~~python\n",
        "L = [1.1, 2.2, 3.3, -4.4, 5.5]\n",
        "\n",
        "'''\n",
        "code here\n",
        "'''\n",
        "~~~\n",
        "\n",
        "#### Output\n",
        "`array([1.1, 2.2, 3.3, -4.4, 5.5], dtype=np.float32)`\n"
      ]
    },
    {
      "cell_type": "code",
      "metadata": {
        "colab": {
          "base_uri": "https://localhost:8080/"
        },
        "id": "GKyzot1HlBa8",
        "outputId": "0114d832-c9d6-4dc6-80a4-c5cd9d19b6ac"
      },
      "source": [
        "#3\n",
        "import numpy as np\n",
        "\n",
        "L = [1.1, 2.2, 3.3, -4.4, 5.5]\n",
        "a = np.float32(L)\n",
        "a"
      ],
      "execution_count": 1,
      "outputs": [
        {
          "output_type": "execute_result",
          "data": {
            "text/plain": [
              "array([ 1.1,  2.2,  3.3, -4.4,  5.5], dtype=float32)"
            ]
          },
          "metadata": {
            "tags": []
          },
          "execution_count": 1
        }
      ]
    }
  ]
}
