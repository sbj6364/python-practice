{
  "nbformat": 4,
  "nbformat_minor": 0,
  "metadata": {
    "colab": {
      "name": "26_sorting2.ipynb",
      "provenance": [],
      "collapsed_sections": [],
      "authorship_tag": "ABX9TyO4eqBLmDzfQHq9q0DtV/St",
      "include_colab_link": true
    },
    "kernelspec": {
      "name": "python3",
      "display_name": "Python 3"
    },
    "language_info": {
      "name": "python"
    }
  },
  "cells": [
    {
      "cell_type": "markdown",
      "metadata": {
        "id": "view-in-github",
        "colab_type": "text"
      },
      "source": [
        "<a href=\"https://colab.research.google.com/github/sbj6364/python-study/blob/main/numpy-basic/26_sorting2.ipynb\" target=\"_parent\"><img src=\"https://colab.research.google.com/assets/colab-badge.svg\" alt=\"Open In Colab\"/></a>"
      ]
    },
    {
      "cell_type": "markdown",
      "metadata": {
        "id": "_Ct_m_uatHBM"
      },
      "source": [
        "# 26번 : sorting(2)\n",
        "\n",
        "다음 numpy array를 대하여 오름차순으로 정렬한 뒤의 array에서 각 원소가 가지는 인덱스를 구하는 코드를 작성하세요.\n",
        "\n",
        "(단, 주어진 배열을 변형하지 말고 사용하세요.)\n",
        "  \n",
        "#### 베이스라인\n",
        "~~~python\n",
        "arr = np.array([1, -5, 3.4, 55.41, -1009, 2245, -575, -1935.124])\n",
        "\n",
        "'''\n",
        "code here\n",
        "'''\n",
        "~~~\n",
        "#### Output\n",
        "~~~\n",
        "array([7, 4, 6, 1, 0, 2, 3, 5])\n",
        "~~~\n",
        "\n",
        "\n",
        "\n"
      ]
    },
    {
      "cell_type": "code",
      "metadata": {
        "colab": {
          "base_uri": "https://localhost:8080/"
        },
        "id": "-Vr2IwYG1OzJ",
        "outputId": "f2423c5c-68dd-412d-ed8a-f8fb4f0a4846"
      },
      "source": [
        "import numpy as np\n",
        "arr = np.array([1, -5, 3.4, 55.41, -1009, 2245, -575, -1935.124])\n",
        "\n",
        "np.argsort(arr)"
      ],
      "execution_count": 5,
      "outputs": [
        {
          "output_type": "execute_result",
          "data": {
            "text/plain": [
              "array([7, 4, 6, 1, 0, 2, 3, 5])"
            ]
          },
          "metadata": {
            "tags": []
          },
          "execution_count": 5
        }
      ]
    }
  ]
}