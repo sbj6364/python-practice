{
  "nbformat": 4,
  "nbformat_minor": 0,
  "metadata": {
    "colab": {
      "name": "6_array_data_type.ipynb",
      "provenance": [],
      "authorship_tag": "ABX9TyME6pV0xtms4RCPAHqyEzX0",
      "include_colab_link": true
    },
    "kernelspec": {
      "name": "python3",
      "display_name": "Python 3"
    },
    "language_info": {
      "name": "python"
    }
  },
  "cells": [
    {
      "cell_type": "markdown",
      "metadata": {
        "id": "view-in-github",
        "colab_type": "text"
      },
      "source": [
        "<a href=\"https://colab.research.google.com/github/sbj6364/python-practice/blob/main/numpy-basic/6_array_data_type.ipynb\" target=\"_parent\"><img src=\"https://colab.research.google.com/assets/colab-badge.svg\" alt=\"Open In Colab\"/></a>"
      ]
    },
    {
      "cell_type": "markdown",
      "metadata": {
        "id": "_Ct_m_uatHBM"
      },
      "source": [
        "# 6번 : array data type\n",
        "\n",
        "numpy 라이브러리의 numpy array가 가질 수 있는 data type을 모두 서술해보세요."
      ]
    },
    {
      "cell_type": "markdown",
      "metadata": {
        "id": "xIkmbE7WJIUy"
      },
      "source": [
        ">**reference** [numpy documentation](https://numpy.org/devdocs/user/basics.types.html#array-types-and-conversions-between-types)\n",
        "\n",
        "\n",
        "\n",
        "`numpy.bool` :\n",
        "`bool`\n",
        "Boolean (True or False) stored as a byte\n",
        "\n",
        "`numpy.byte` :\n",
        "`signed char`\n",
        "Platform-defined\n",
        "\n",
        "`numpy.ubyte` :\n",
        "`unsigned char`\n",
        "Platform-defined\n",
        "\n",
        "`numpy.short` :\n",
        "`short`\n",
        "Platform-defined\n",
        "\n",
        "`numpy.ushort` :\n",
        "`unsigned short`\n",
        "Platform-defined\n",
        "\n",
        "`numpy.intc` :\n",
        "`int`\n",
        "Platform-defined\n",
        "\n",
        "`numpy.uintc` :\n",
        "`unsigned int`\n",
        "Platform-defined\n",
        "\n",
        "`numpy.int_` :\n",
        "`long`\n",
        "Platform-defined\n",
        "\n",
        "`numpy.uint` :\n",
        "`unsigned long`\n",
        "Platform-defined\n",
        "\n",
        "`numpy.longlong` :\n",
        "`long long`\n",
        "Platform-defined\n",
        "\n",
        "`numpy.ulonglong` :\n",
        "`unsigned long long`\n",
        "Platform-defined\n",
        "\n",
        "`numpy.half` / `numpy.float16` :\n",
        "Half precision float: sign bit, 5 bits exponent, 10 bits mantissa\n",
        "\n",
        "`numpy.single` :\n",
        "`float`\n",
        "Platform-defined single precision float: typically sign bit, 8 bits exponent, 23 bits mantissa\n",
        "\n",
        "`numpy.double` :\n",
        "`double`\n",
        "Platform-defined double precision float: typically sign bit, 11 bits exponent, 52 bits mantissa.\n",
        "\n",
        "`numpy.longdouble` :\n",
        "`long double`\n",
        "Platform-defined extended-precision float\n",
        "\n",
        "`numpy.csingle` :\n",
        "`float complex`\n",
        "Complex number, represented by two single-precision floats (real and imaginary components)\n",
        "\n",
        "`numpy.cdouble` :\n",
        "`double complex`\n",
        "Complex number, represented by two double-precision floats (real and imaginary components)\n",
        "\n",
        "`numpy.clongdouble` :\n",
        "`long double complex`\n",
        "Complex number, represented by two extended-precision floats (real and imaginary components)."
      ]
    },
    {
      "cell_type": "markdown",
      "metadata": {
        "id": "gYhAr2ETKmrF"
      },
      "source": [
        "> reference [futureskill 김용담 creator](https://futureskill.io/content/79eba49a-178d-41be-8f88-137a5127742d/question/ced42779-2980-46d6-90a5-8d4d2f1e6c61)\n",
        "\n",
        "platform에 따라 달라지는 data type을 제외하면 다음과 같다.\n",
        "\n",
        "\n",
        "1. **Integer** 계열\n",
        "\n",
        "- `int8`, `int16`, `int32`, `int64`  \n",
        "  모두 Integer를 나타내며 뒤에 따라오는 숫자에 따라 표현 범위가 정해짐.  \n",
        "  > e.g. `int8`(8bytes) : -128 ~ 127\n",
        "\n",
        "\n",
        "\n",
        "- `uint8`, `uint16`, `uint32`, `uint64`  \n",
        "  모두 unsigned integer를 나타내며 뒤에 따라오는 숫자에 따라 표현 범위가 정해짐.  \n",
        "  > e.g. `uint16`(16bytes) : 0 ~ 65535\n",
        "\n",
        "2. **Floating-point** 계열\n",
        "\n",
        "- `float32`, `float64`  \n",
        "  모두 fixed-floating 타입을 나타내며 뒤에 따라오는 숫자에 따라 표현 범위가 정해짐.  \n",
        "  (float16도 있으나, platform-dependent)  \n",
        "  > e.g. `float32`(single precision, sign bit + 8 bits exponent + 23 bits mantissa)"
      ]
    }
  ]
}
