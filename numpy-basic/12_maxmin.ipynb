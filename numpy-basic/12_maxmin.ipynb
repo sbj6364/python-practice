{
  "nbformat": 4,
  "nbformat_minor": 0,
  "metadata": {
    "colab": {
      "name": "12_maxmin.ipynb",
      "provenance": [],
      "authorship_tag": "ABX9TyNpw7N6NCpzBCh4nH3Btkxi",
      "include_colab_link": true
    },
    "kernelspec": {
      "name": "python3",
      "display_name": "Python 3"
    },
    "language_info": {
      "name": "python"
    }
  },
  "cells": [
    {
      "cell_type": "markdown",
      "metadata": {
        "id": "view-in-github",
        "colab_type": "text"
      },
      "source": [
        "<a href=\"https://colab.research.google.com/github/sbj6364/python-practice/blob/main/numpy-basic/12_maxmin.ipynb\" target=\"_parent\"><img src=\"https://colab.research.google.com/assets/colab-badge.svg\" alt=\"Open In Colab\"/></a>"
      ]
    },
    {
      "cell_type": "markdown",
      "metadata": {
        "id": "_Ct_m_uatHBM"
      },
      "source": [
        "# 12번 : max min\n",
        "\n",
        "주어진 numpy array의 최소/최대값을 찾아서 출력하는 코드를 작성해보세요.\n",
        "  \n",
        "#### 베이스라인\n",
        "~~~python\n",
        "arr = np.array([50, 1110, 1, 230, 3, 40, 517590, -41, -4959])\n",
        "\n",
        "'''\n",
        "code here\n",
        "'''\n",
        "~~~\n",
        "#### Output\n",
        "~~~\n",
        "min : -4959\n",
        "max : 517590\n",
        "~~~\n",
        "\n",
        "\n"
      ]
    },
    {
      "cell_type": "code",
      "metadata": {
        "colab": {
          "base_uri": "https://localhost:8080/"
        },
        "id": "-Vr2IwYG1OzJ",
        "outputId": "e208e959-2404-4241-e805-a8af6fe0be1b"
      },
      "source": [
        "import numpy as np\n",
        "import numpy.ma as ma\n",
        "arr = np.array([50, 1110, 1, 230, 3, 40, 517590, -41, -4959])\n",
        "\n",
        "print('min :', min(arr))\n",
        "print('max :', max(arr))"
      ],
      "execution_count": 13,
      "outputs": [
        {
          "output_type": "stream",
          "text": [
            "min : -4959\n",
            "max : 517590\n"
          ],
          "name": "stdout"
        }
      ]
    }
  ]
}