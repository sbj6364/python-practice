{
  "nbformat": 4,
  "nbformat_minor": 0,
  "metadata": {
    "colab": {
      "name": "5_creation5.ipynb",
      "provenance": [],
      "authorship_tag": "ABX9TyO1VD+IuU/3ulkeEoolBncC",
      "include_colab_link": true
    },
    "kernelspec": {
      "name": "python3",
      "display_name": "Python 3"
    },
    "language_info": {
      "name": "python"
    }
  },
  "cells": [
    {
      "cell_type": "markdown",
      "metadata": {
        "id": "view-in-github",
        "colab_type": "text"
      },
      "source": [
        "<a href=\"https://colab.research.google.com/github/sbj6364/python-practice/blob/main/numpy-basic/5_creation5.ipynb\" target=\"_parent\"><img src=\"https://colab.research.google.com/assets/colab-badge.svg\" alt=\"Open In Colab\"/></a>"
      ]
    },
    {
      "cell_type": "markdown",
      "metadata": {
        "id": "_Ct_m_uatHBM"
      },
      "source": [
        "# 5번 : creation(5)\n",
        "\n",
        "0부터 1 사이의 실수를 0.1 간격으로 가지는 원소로 하는 numpy array를 생성하는 코드를 작성해보세요.\n",
        "\n",
        "#### Output\n",
        "`array([0., 0.1, 0.2, 0.3, 0.4, ..., 0.9, 1.])`\n"
      ]
    },
    {
      "cell_type": "code",
      "metadata": {
        "colab": {
          "base_uri": "https://localhost:8080/"
        },
        "id": "GKyzot1HlBa8",
        "outputId": "a4ba8846-d9e6-46c0-bf54-62557ca33bc0"
      },
      "source": [
        "#5\n",
        "import numpy as np\n",
        "\n",
        "a = np.arange(0.0,1.1,0.1,dtype=float)\n",
        "a"
      ],
      "execution_count": 7,
      "outputs": [
        {
          "output_type": "execute_result",
          "data": {
            "text/plain": [
              "array([0. , 0.1, 0.2, 0.3, 0.4, 0.5, 0.6, 0.7, 0.8, 0.9, 1. ])"
            ]
          },
          "metadata": {
            "tags": []
          },
          "execution_count": 7
        }
      ]
    }
  ]
}