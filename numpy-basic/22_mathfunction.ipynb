{
  "nbformat": 4,
  "nbformat_minor": 0,
  "metadata": {
    "colab": {
      "name": "22_mathfunction.ipynb",
      "provenance": [],
      "authorship_tag": "ABX9TyPUpL0xy34hPLnZLKSXebJd",
      "include_colab_link": true
    },
    "kernelspec": {
      "name": "python3",
      "display_name": "Python 3"
    },
    "language_info": {
      "name": "python"
    }
  },
  "cells": [
    {
      "cell_type": "markdown",
      "metadata": {
        "id": "view-in-github",
        "colab_type": "text"
      },
      "source": [
        "<a href=\"https://colab.research.google.com/github/sbj6364/python-study/blob/main/numpy-basic/22_mathfunction.ipynb\" target=\"_parent\"><img src=\"https://colab.research.google.com/assets/colab-badge.svg\" alt=\"Open In Colab\"/></a>"
      ]
    },
    {
      "cell_type": "markdown",
      "metadata": {
        "id": "_Ct_m_uatHBM"
      },
      "source": [
        "# 22번 : math function\n",
        "\n",
        "사용자에게 입력받은 정수 x에 대한 sine(sin), cosine(cos), tangent(tan) 함수 값을 구하는 코드를 작성해보세요.  \n",
        "(단, numpy 라이브러리 함수를 이용하세요.)\n",
        "  \n",
        "#### 베이스라인\n",
        "~~~python\n",
        "# x = int(input(\"Number? : \"))\n",
        "x = 10\n",
        "\n",
        "'''\n",
        "code here\n",
        "'''\n",
        "~~~\n",
        "#### Output\n",
        "~~~\n",
        "sin(10) : -0.5440\n",
        "cos(10) : -0.8390\n",
        "tan(10) : 0.6483\n",
        "~~~\n",
        "\n",
        "\n"
      ]
    },
    {
      "cell_type": "code",
      "metadata": {
        "colab": {
          "base_uri": "https://localhost:8080/"
        },
        "id": "-Vr2IwYG1OzJ",
        "outputId": "849001a2-861c-4177-cb9f-9d435eceddce"
      },
      "source": [
        "import numpy as np\n",
        "\n",
        "x = int(input(\"Number? : \"))\n",
        "\n",
        "print('sin('+ str(x) + ') :', '%.4f' %np.sin(x))\n",
        "print('cos('+ str(x) + ') :', '%.4f' %np.cos(x))\n",
        "print('tan('+ str(x) + ') :', '%.4f' %np.tan(x))"
      ],
      "execution_count": 11,
      "outputs": [
        {
          "output_type": "stream",
          "text": [
            "Number? : 10\n",
            "sin(10) : -0.5440\n",
            "cos(10) : -0.8391\n",
            "tan(10) : 0.6484\n"
          ],
          "name": "stdout"
        }
      ]
    }
  ]
}