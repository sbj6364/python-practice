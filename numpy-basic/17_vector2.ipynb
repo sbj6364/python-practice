{
  "nbformat": 4,
  "nbformat_minor": 0,
  "metadata": {
    "colab": {
      "name": "17_vector2.ipynb",
      "provenance": [],
      "authorship_tag": "ABX9TyNpfFnssAqzJFZymg3ufanS",
      "include_colab_link": true
    },
    "kernelspec": {
      "name": "python3",
      "display_name": "Python 3"
    },
    "language_info": {
      "name": "python"
    }
  },
  "cells": [
    {
      "cell_type": "markdown",
      "metadata": {
        "id": "view-in-github",
        "colab_type": "text"
      },
      "source": [
        "<a href=\"https://colab.research.google.com/github/sbj6364/python-practice/blob/main/numpy-basic/17_vector2.ipynb\" target=\"_parent\"><img src=\"https://colab.research.google.com/assets/colab-badge.svg\" alt=\"Open In Colab\"/></a>"
      ]
    },
    {
      "cell_type": "markdown",
      "metadata": {
        "id": "_Ct_m_uatHBM"
      },
      "source": [
        "# 17번 : vector(2)\n",
        "\n",
        "두개의 벡터 v1, v2v1,v2가 numpy array로 주어졌을 때, 두 벡터의 내적 v1 ⋅ v2 을 구하는 코드를 작성하세요.\n",
        "\n",
        "  \n",
        "#### 베이스라인\n",
        "~~~python\n",
        "v1 = np.array([1, 2, 3])\n",
        "v2 = np.array([4, -1, 2])\n",
        "\n",
        "'''\n",
        "code here\n",
        "'''\n",
        "~~~\n",
        "#### Output\n",
        "~~~\n",
        "8\n",
        "~~~\n",
        "\n"
      ]
    },
    {
      "cell_type": "code",
      "metadata": {
        "colab": {
          "base_uri": "https://localhost:8080/"
        },
        "id": "-Vr2IwYG1OzJ",
        "outputId": "70f55b59-c1c0-4db3-8ced-61b99d826c6c"
      },
      "source": [
        "import numpy as np\n",
        "\n",
        "v1 = np.array([1, 2, 3])\n",
        "v2 = np.array([4, -1, 2])\n",
        "np.dot(v1, v2)\n",
        "\n",
        "# dot을 쓰지 않고 하는 경우\n",
        "v = v1 * v2\n",
        "np.sum(v)"
      ],
      "execution_count": 4,
      "outputs": [
        {
          "output_type": "execute_result",
          "data": {
            "text/plain": [
              "array([ 4, -2,  6])"
            ]
          },
          "metadata": {
            "tags": []
          },
          "execution_count": 4
        }
      ]
    }
  ]
}