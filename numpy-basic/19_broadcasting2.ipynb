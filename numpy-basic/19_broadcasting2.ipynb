{
  "nbformat": 4,
  "nbformat_minor": 0,
  "metadata": {
    "colab": {
      "name": "19_broadcasting2.ipynb",
      "provenance": [],
      "authorship_tag": "ABX9TyPsSFlLEpldDp5mDnwTPQ1v",
      "include_colab_link": true
    },
    "kernelspec": {
      "name": "python3",
      "display_name": "Python 3"
    },
    "language_info": {
      "name": "python"
    }
  },
  "cells": [
    {
      "cell_type": "markdown",
      "metadata": {
        "id": "view-in-github",
        "colab_type": "text"
      },
      "source": [
        "<a href=\"https://colab.research.google.com/github/sbj6364/python-practice/blob/main/numpy-basic/19_broadcasting2.ipynb\" target=\"_parent\"><img src=\"https://colab.research.google.com/assets/colab-badge.svg\" alt=\"Open In Colab\"/></a>"
      ]
    },
    {
      "cell_type": "markdown",
      "metadata": {
        "id": "_Ct_m_uatHBM"
      },
      "source": [
        "# 19번 : broadcasting(2)\n",
        "\n",
        "numpy array로 표현된 행렬에 모든 행에 같은 벡터를 더하는 연산을 수행하는 코드를 작성하세요.\n",
        "\n",
        "  \n",
        "#### 베이스라인\n",
        "~~~python\n",
        "mat1 = np.array([[1, 2, 3], [4, 5, 6], [7, 8, 9]])\n",
        "v1 = np.array([-1, -2, -3])\n",
        "\n",
        "'''\n",
        "code here\n",
        "'''\n",
        "~~~\n",
        "#### Output\n",
        "~~~\n",
        "array([[0, 0, 0],\n",
        "       [3, 3, 3],\n",
        "       [6, 6, 6]])\n",
        "~~~\n",
        "\n",
        "\n",
        "\n",
        "\n"
      ]
    },
    {
      "cell_type": "code",
      "metadata": {
        "colab": {
          "base_uri": "https://localhost:8080/"
        },
        "id": "-Vr2IwYG1OzJ",
        "outputId": "52d082b9-a9e8-41b5-e0ad-f2799b693341"
      },
      "source": [
        "import numpy as np\n",
        "\n",
        "mat1 = np.array([[1, 2, 3], [4, 5, 6], [7, 8, 9]])\n",
        "v1 = np.array([-1, -2, -3])\n",
        "\n",
        "mat1 + v1"
      ],
      "execution_count": 8,
      "outputs": [
        {
          "output_type": "execute_result",
          "data": {
            "text/plain": [
              "array([[0, 0, 0],\n",
              "       [3, 3, 3],\n",
              "       [6, 6, 6]])"
            ]
          },
          "metadata": {
            "tags": []
          },
          "execution_count": 8
        }
      ]
    }
  ]
}