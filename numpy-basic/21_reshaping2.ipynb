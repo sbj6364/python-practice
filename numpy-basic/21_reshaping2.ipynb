{
  "nbformat": 4,
  "nbformat_minor": 0,
  "metadata": {
    "colab": {
      "name": "21_reshaping2.ipynb",
      "provenance": [],
      "authorship_tag": "ABX9TyPg1yCjIT6ouhEkjDPnqSIx",
      "include_colab_link": true
    },
    "kernelspec": {
      "name": "python3",
      "display_name": "Python 3"
    },
    "language_info": {
      "name": "python"
    }
  },
  "cells": [
    {
      "cell_type": "markdown",
      "metadata": {
        "id": "view-in-github",
        "colab_type": "text"
      },
      "source": [
        "<a href=\"https://colab.research.google.com/github/sbj6364/python-study/blob/main/numpy-basic/21_reshaping2.ipynb\" target=\"_parent\"><img src=\"https://colab.research.google.com/assets/colab-badge.svg\" alt=\"Open In Colab\"/></a>"
      ]
    },
    {
      "cell_type": "markdown",
      "metadata": {
        "id": "_Ct_m_uatHBM"
      },
      "source": [
        "# 21번 : reshaping(2)\n",
        "\n",
        "행의 개수를 모르는 행렬이 있다고 할 때, 이 행렬을 1차원 벡터로 변환하는 코드를 작성하세요.\n",
        "  \n",
        "#### 베이스라인\n",
        "~~~python\n",
        "N = int(input(\"N? : \")) # 사용자 입력으로 받은 자연수 N\n",
        "data = np.random.random((N, 6)) # N x 6 matrix\n",
        "\n",
        "'''\n",
        "code here\n",
        "'''\n",
        "~~~\n",
        "\n",
        "\n",
        "\n",
        "\n"
      ]
    },
    {
      "cell_type": "code",
      "metadata": {
        "colab": {
          "base_uri": "https://localhost:8080/"
        },
        "id": "-Vr2IwYG1OzJ",
        "outputId": "b45c35ec-7227-470c-8b70-f01d04d69798"
      },
      "source": [
        "import numpy as np\n",
        "\n",
        "N = int(input(\"N? : \"))\n",
        "data = np.random.random((N, 6))\n",
        "\n",
        "data.flatten()\n",
        "data.ravel()\n",
        "data.reshape(N*6,)\n",
        "data.reshape(-1)"
      ],
      "execution_count": 17,
      "outputs": [
        {
          "output_type": "stream",
          "text": [
            "N? : 3\n"
          ],
          "name": "stdout"
        },
        {
          "output_type": "execute_result",
          "data": {
            "text/plain": [
              "array([0.14638935, 0.99765892, 0.40157442, 0.64368029, 0.45471864,\n",
              "       0.91981962, 0.84790661, 0.06847171, 0.45353919, 0.42081494,\n",
              "       0.2872478 , 0.53584925, 0.84530183, 0.83522803, 0.56401847,\n",
              "       0.99592842, 0.994956  , 0.35703478])"
            ]
          },
          "metadata": {
            "tags": []
          },
          "execution_count": 17
        }
      ]
    }
  ]
}