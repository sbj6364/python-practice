{
  "nbformat": 4,
  "nbformat_minor": 0,
  "metadata": {
    "colab": {
      "name": "2_creation2.ipynb",
      "provenance": [],
      "authorship_tag": "ABX9TyMSPYj2uKaN2OZLmSx3QzwS",
      "include_colab_link": true
    },
    "kernelspec": {
      "name": "python3",
      "display_name": "Python 3"
    },
    "language_info": {
      "name": "python"
    }
  },
  "cells": [
    {
      "cell_type": "markdown",
      "metadata": {
        "id": "view-in-github",
        "colab_type": "text"
      },
      "source": [
        "<a href=\"https://colab.research.google.com/github/sbj6364/python-practice/blob/main/numpy-basic/2_creation2.ipynb\" target=\"_parent\"><img src=\"https://colab.research.google.com/assets/colab-badge.svg\" alt=\"Open In Colab\"/></a>"
      ]
    },
    {
      "cell_type": "markdown",
      "metadata": {
        "id": "_Ct_m_uatHBM"
      },
      "source": [
        "#2번 : creation(2)\n",
        "\n",
        "원소가 모두 0이고 크기가 10인 numpy array를 생성하는 코드를 작성해보세요.\n",
        "  \n",
        "\n",
        "#### Output\n",
        "`array([0., 0., 0., 0., 0., 0., 0., 0., 0., 0.])`\n"
      ]
    },
    {
      "cell_type": "code",
      "metadata": {
        "colab": {
          "base_uri": "https://localhost:8080/"
        },
        "id": "GKyzot1HlBa8",
        "outputId": "8431d128-2652-4551-f251-224f7dedc33b"
      },
      "source": [
        "#2\n",
        "import numpy as np\n",
        "\n",
        "a = np.zeros(10)\n",
        "a"
      ],
      "execution_count": 17,
      "outputs": [
        {
          "output_type": "execute_result",
          "data": {
            "text/plain": [
              "array([0., 0., 0., 0., 0., 0., 0., 0., 0., 0.])"
            ]
          },
          "metadata": {
            "tags": []
          },
          "execution_count": 17
        }
      ]
    }
  ]
}
