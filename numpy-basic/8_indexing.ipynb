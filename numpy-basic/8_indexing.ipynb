{
  "nbformat": 4,
  "nbformat_minor": 0,
  "metadata": {
    "colab": {
      "name": "8_indexing.ipynb",
      "provenance": [],
      "authorship_tag": "ABX9TyOJI2bREsTbA2769MPiX6mM",
      "include_colab_link": true
    },
    "kernelspec": {
      "name": "python3",
      "display_name": "Python 3"
    },
    "language_info": {
      "name": "python"
    }
  },
  "cells": [
    {
      "cell_type": "markdown",
      "metadata": {
        "id": "view-in-github",
        "colab_type": "text"
      },
      "source": [
        "<a href=\"https://colab.research.google.com/github/sbj6364/python-practice/blob/main/numpy-basic/8_indexing.ipynb\" target=\"_parent\"><img src=\"https://colab.research.google.com/assets/colab-badge.svg\" alt=\"Open In Colab\"/></a>"
      ]
    },
    {
      "cell_type": "markdown",
      "metadata": {
        "id": "_Ct_m_uatHBM"
      },
      "source": [
        "# 7번 : array data type(2)\n",
        "\n",
        "주어진 numpy array의 두번째 원소를 찾아서 출력하는 코드를 작성해보세요.\n",
        "  \n",
        "#### 베이스라인\n",
        "~~~python\n",
        "arr = np.array([31, 24, 37, 14, 25])\n",
        "\n",
        "'''\n",
        "code here\n",
        "'''\n",
        "~~~\n",
        "#### Output\n",
        "~~~\n",
        "24\n",
        "~~~"
      ]
    },
    {
      "cell_type": "code",
      "metadata": {
        "colab": {
          "base_uri": "https://localhost:8080/"
        },
        "id": "-Vr2IwYG1OzJ",
        "outputId": "8eb5e2c7-1f2c-40db-80e3-7fccb6f35dd8"
      },
      "source": [
        "import numpy as np\n",
        "arr = np.array([31, 24, 37, 14, 25])\n",
        "\n",
        "arr[1]"
      ],
      "execution_count": 3,
      "outputs": [
        {
          "output_type": "execute_result",
          "data": {
            "text/plain": [
              "24"
            ]
          },
          "metadata": {
            "tags": []
          },
          "execution_count": 3
        }
      ]
    }
  ]
}