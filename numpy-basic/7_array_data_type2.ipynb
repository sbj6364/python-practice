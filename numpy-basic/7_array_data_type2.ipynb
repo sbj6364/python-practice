{
  "nbformat": 4,
  "nbformat_minor": 0,
  "metadata": {
    "colab": {
      "name": "7_array_data_type2.ipynb",
      "provenance": [],
      "authorship_tag": "ABX9TyOxFLhmTn6KV//IyhOl515D",
      "include_colab_link": true
    },
    "kernelspec": {
      "name": "python3",
      "display_name": "Python 3"
    },
    "language_info": {
      "name": "python"
    }
  },
  "cells": [
    {
      "cell_type": "markdown",
      "metadata": {
        "id": "view-in-github",
        "colab_type": "text"
      },
      "source": [
        "<a href=\"https://colab.research.google.com/github/sbj6364/python-practice/blob/main/numpy-basic/7_array_data_type2.ipynb\" target=\"_parent\"><img src=\"https://colab.research.google.com/assets/colab-badge.svg\" alt=\"Open In Colab\"/></a>"
      ]
    },
    {
      "cell_type": "markdown",
      "metadata": {
        "id": "_Ct_m_uatHBM"
      },
      "source": [
        "# 7번 : array data type(2)\n",
        "\n",
        "numpy array 내에서의 모든 원소가  \n",
        "  \n",
        "1) 동일한 data type을 가져야 하는 이유와,  \n",
        "2) 동일한 data type을 가지는 것으로 python list에 비해 갖게되는 장점\n",
        "\n",
        "에 대해 서술해보세요."
      ]
    },
    {
      "cell_type": "markdown",
      "metadata": {
        "id": "gYhAr2ETKmrF"
      },
      "source": [
        "Numpy 배열은 메모리에 밀집된 유사한 데이터 유형의 모음이다. Python 목록은 다른 데이터 유형을 가질 수 있으므로 계산을 수행하는 동안 많은 추가 제약 조건이 적용된다. 반면 Numpy는 작업을 여러 하위 작업으로 나누고 병렬로 처리 할 수 ​​있다. Numpy 함수는 C로 구현된다. 다시 말해서 Python 목록에 비해 더 빠르다고 볼 수 있다.\n",
        "\n",
        "1) 동일한 type의 data가 저장되어 있어야 동일한 memory size만큼 건너뛰며 연산을 하게 되어 연산 속도를 높일 수 있기 때문이다.  \n",
        "2) Numpy는 data를 vertorization하여 연산하기 때문에 loop나 indexing이 없으며, 사전에 C로 작성된 code에 의해 동작하기 때문에 코드가 훨씬 간결하고 빠르다.\n"
      ]
    }
  ]
}