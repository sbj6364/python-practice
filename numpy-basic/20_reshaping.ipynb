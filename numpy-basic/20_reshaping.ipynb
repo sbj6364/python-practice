{
  "nbformat": 4,
  "nbformat_minor": 0,
  "metadata": {
    "colab": {
      "name": "20_reshaping.ipynb",
      "provenance": [],
      "authorship_tag": "ABX9TyOYOaN231kQwcyT/sLNcimG",
      "include_colab_link": true
    },
    "kernelspec": {
      "name": "python3",
      "display_name": "Python 3"
    },
    "language_info": {
      "name": "python"
    }
  },
  "cells": [
    {
      "cell_type": "markdown",
      "metadata": {
        "id": "view-in-github",
        "colab_type": "text"
      },
      "source": [
        "<a href=\"https://colab.research.google.com/github/sbj6364/python-study/blob/main/numpy-basic/20_reshaping.ipynb\" target=\"_parent\"><img src=\"https://colab.research.google.com/assets/colab-badge.svg\" alt=\"Open In Colab\"/></a>"
      ]
    },
    {
      "cell_type": "markdown",
      "metadata": {
        "id": "_Ct_m_uatHBM"
      },
      "source": [
        "# 20번 : reshaping\n",
        "\n",
        "이미지 데이터를 처리할 때, numpy array를 통해서 이미지 데이터를 표현하면 \"가로 pixel X 세로 pixel\" 크기의 numpy array가 됩니다.  \n",
        "5x5의 크기를 가지는 이미지가 numpy array로 표현되었을 때, 이를 1차원 벡터로 변환하는 코드를 작성해보세요.\n",
        "  \n",
        "#### 베이스라인\n",
        "~~~python\n",
        "img = np.random.random((5, 5))\n",
        "\n",
        "'''\n",
        "code here\n",
        "'''\n",
        "~~~\n",
        "#### Example Input\n",
        "~~~python\n",
        "imgExample = np.array([[1, 2, 3, 4, 5],\n",
        "                      [6, 7, 8, 9, 10],\n",
        "                      [11,12,13,14,15],\n",
        "                      [16,17,18,19,20],\n",
        "                      [21,22,23,24,25]])\n",
        "~~~\n",
        "#### Example Output\n",
        "~~~\n",
        "array([1, 2, 3, 4, 5, 6, 7, 8, 9, ... , 23, 24, 25])\n",
        "~~~\n",
        "\n",
        "\n",
        "\n",
        "\n"
      ]
    },
    {
      "cell_type": "code",
      "metadata": {
        "colab": {
          "base_uri": "https://localhost:8080/"
        },
        "id": "-Vr2IwYG1OzJ",
        "outputId": "0ca45d78-3e08-4452-9e5a-01bc5a4d70db"
      },
      "source": [
        "import numpy as np\n",
        "\n",
        "img = np.random.random((5, 5))\n",
        "\n",
        "img.reshape(25,)\n",
        "img.ravel()\n",
        "img.reshape(-1)\n",
        "img.flatten()"
      ],
      "execution_count": 11,
      "outputs": [
        {
          "output_type": "execute_result",
          "data": {
            "text/plain": [
              "array([0.75991647, 0.64940028, 0.46011933, 0.51375061, 0.82605258,\n",
              "       0.21967287, 0.07411445, 0.92390181, 0.71816999, 0.6693027 ,\n",
              "       0.65360146, 0.95381047, 0.81535575, 0.869628  , 0.92941328,\n",
              "       0.90025652, 0.01562069, 0.24446552, 0.23454932, 0.4170063 ,\n",
              "       0.65879474, 0.78047038, 0.02606446, 0.55061041, 0.96904965])"
            ]
          },
          "metadata": {
            "tags": []
          },
          "execution_count": 11
        }
      ]
    }
  ]
}