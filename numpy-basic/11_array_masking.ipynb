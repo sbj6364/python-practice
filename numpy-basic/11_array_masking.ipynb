{
  "nbformat": 4,
  "nbformat_minor": 0,
  "metadata": {
    "colab": {
      "name": "11_array masking.ipynb",
      "provenance": [],
      "authorship_tag": "ABX9TyNFD7v+W9w4o0QdS6+Is7kE",
      "include_colab_link": true
    },
    "kernelspec": {
      "name": "python3",
      "display_name": "Python 3"
    },
    "language_info": {
      "name": "python"
    }
  },
  "cells": [
    {
      "cell_type": "markdown",
      "metadata": {
        "id": "view-in-github",
        "colab_type": "text"
      },
      "source": [
        "<a href=\"https://colab.research.google.com/github/sbj6364/python-practice/blob/main/numpy-basic/11_array_masking.ipynb\" target=\"_parent\"><img src=\"https://colab.research.google.com/assets/colab-badge.svg\" alt=\"Open In Colab\"/></a>"
      ]
    },
    {
      "cell_type": "markdown",
      "metadata": {
        "id": "_Ct_m_uatHBM"
      },
      "source": [
        "# 11번 : array masking\n",
        "\n",
        "\n",
        "주어진 numpy array 에 대해서, 30보다 큰 숫자만 뽑는 코드를 작성하세요.  \n",
        "(단, 반복문을 통한 방법이 아닌 numpy array masking을 사용하세요.)\n",
        "  \n",
        "#### 베이스라인\n",
        "~~~python\n",
        "arr = np.array([30, 4, 550, 9, 112, 10000, 15, 21])\n",
        "\n",
        "'''\n",
        "code here\n",
        "'''\n",
        "~~~\n",
        "#### Output\n",
        "~~~\n",
        "array([550, 112, 10000])\n",
        "~~~\n",
        "\n"
      ]
    },
    {
      "cell_type": "code",
      "metadata": {
        "colab": {
          "base_uri": "https://localhost:8080/"
        },
        "id": "-Vr2IwYG1OzJ",
        "outputId": "1e61aac2-b58b-42ca-ae33-2b36a8166008"
      },
      "source": [
        "import numpy as np\n",
        "import numpy.ma as ma\n",
        "arr = np.array([30, 4, 550, 9, 112, 10000, 15, 21])\n",
        "\n",
        "print(arr[ma.greater(arr, 30)==True])\n",
        "print(arr[arr>30])"
      ],
      "execution_count": 9,
      "outputs": [
        {
          "output_type": "stream",
          "text": [
            "[  550   112 10000]\n",
            "[  550   112 10000]\n"
          ],
          "name": "stdout"
        }
      ]
    }
  ]
}