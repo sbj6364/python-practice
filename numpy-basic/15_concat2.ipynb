{
  "nbformat": 4,
  "nbformat_minor": 0,
  "metadata": {
    "colab": {
      "name": "15_concat2.ipynb",
      "provenance": [],
      "authorship_tag": "ABX9TyP+4PV0wdBGpxk3PnrE4UsS",
      "include_colab_link": true
    },
    "kernelspec": {
      "name": "python3",
      "display_name": "Python 3"
    },
    "language_info": {
      "name": "python"
    }
  },
  "cells": [
    {
      "cell_type": "markdown",
      "metadata": {
        "id": "view-in-github",
        "colab_type": "text"
      },
      "source": [
        "<a href=\"https://colab.research.google.com/github/sbj6364/python-practice/blob/main/numpy-basic/15_concat2.ipynb\" target=\"_parent\"><img src=\"https://colab.research.google.com/assets/colab-badge.svg\" alt=\"Open In Colab\"/></a>"
      ]
    },
    {
      "cell_type": "markdown",
      "metadata": {
        "id": "_Ct_m_uatHBM"
      },
      "source": [
        "# 15번 : concat(2)\n",
        "\n",
        "주어진 1차원 numpy array 3개를 연결하여, 하나의 행렬을 구성하는 코드를 작성하세요.\n",
        "\n",
        "  \n",
        "#### 베이스라인\n",
        "~~~python\n",
        "arr1 = np.array([1, 2, 3])\n",
        "arr2 = np.array([4, 5, 6])\n",
        "arr3 = np.array([7, 8, 9])\n",
        "\n",
        "'''\n",
        "code here\n",
        "'''\n",
        "~~~\n",
        "#### Output\n",
        "~~~\n",
        "array([[1, 2, 3],\n",
        "       [4, 5, 6],\n",
        "       [7, 8, 9]])\n",
        "~~~\n",
        "\n",
        "\n",
        "\n"
      ]
    },
    {
      "cell_type": "code",
      "metadata": {
        "colab": {
          "base_uri": "https://localhost:8080/"
        },
        "id": "-Vr2IwYG1OzJ",
        "outputId": "82bb6136-fc4c-4475-a088-307b11b55758"
      },
      "source": [
        "import numpy as np\n",
        "\n",
        "# arr1 = np.array([1, 2, 3]).reshape(1, 3)\n",
        "# arr2 = np.array([4, 5, 6]).reshape(1, 3)\n",
        "# arr3 = np.array([7, 8, 9]).reshape(1, 3)\n",
        "\n",
        "# a = np.concatenate([arr1, arr2, arr3], axis = 0)\n",
        "# a\n",
        "\n",
        "arr1 = np.array([1, 2, 3])\n",
        "arr2 = np.array([4, 5, 6])\n",
        "arr3 = np.array([7, 8, 9])\n",
        "\n",
        "np.vstack([arr1, arr2, arr3])"
      ],
      "execution_count": 58,
      "outputs": [
        {
          "output_type": "execute_result",
          "data": {
            "text/plain": [
              "array([[1, 2, 3],\n",
              "       [4, 5, 6],\n",
              "       [7, 8, 9]])"
            ]
          },
          "metadata": {
            "tags": []
          },
          "execution_count": 58
        }
      ]
    }
  ]
}