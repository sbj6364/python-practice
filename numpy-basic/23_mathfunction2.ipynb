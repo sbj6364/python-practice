{
  "nbformat": 4,
  "nbformat_minor": 0,
  "metadata": {
    "colab": {
      "name": "23_mathfunction2.ipynb",
      "provenance": [],
      "authorship_tag": "ABX9TyNRPV05QiOU2s+jJWWGdeTt",
      "include_colab_link": true
    },
    "kernelspec": {
      "name": "python3",
      "display_name": "Python 3"
    },
    "language_info": {
      "name": "python"
    }
  },
  "cells": [
    {
      "cell_type": "markdown",
      "metadata": {
        "id": "view-in-github",
        "colab_type": "text"
      },
      "source": [
        "<a href=\"https://colab.research.google.com/github/sbj6364/python-study/blob/main/numpy-basic/23_mathfunction2.ipynb\" target=\"_parent\"><img src=\"https://colab.research.google.com/assets/colab-badge.svg\" alt=\"Open In Colab\"/></a>"
      ]
    },
    {
      "cell_type": "markdown",
      "metadata": {
        "id": "_Ct_m_uatHBM"
      },
      "source": [
        "# 23번 : math function(2)\n",
        "\n",
        "사용자에게 입력받은 실수에 대한 절대값(absabs), 제곱근(sqrtsqrt), 제곱(squaresquare) 값을 구하는 코드를 작성해보세요.\n",
        "\n",
        "(단, numpy 라이브러리 함수를 이용하세요.)\n",
        "  \n",
        "#### 베이스라인\n",
        "~~~python\n",
        "# x = float(input(\"Number? : \"))\n",
        "x = 3.14\n",
        "\n",
        "'''\n",
        "code here\n",
        "'''\n",
        "~~~\n",
        "#### Output\n",
        "~~~\n",
        "abs(3.14) : 3.1400\n",
        "root(3.14) : 1.7720\n",
        "square(3.14) : 9.8596\n",
        "~~~\n",
        "\n",
        "\n",
        "\n"
      ]
    },
    {
      "cell_type": "code",
      "metadata": {
        "colab": {
          "base_uri": "https://localhost:8080/"
        },
        "id": "-Vr2IwYG1OzJ",
        "outputId": "9a34324c-3047-4c5e-830a-1709a25a1c6c"
      },
      "source": [
        "import numpy as np\n",
        "\n",
        "x = float(input(\"Number? : \"))\n",
        "\n",
        "print('abs('+ str(x) + ') :', '%.4f' %np.abs(x))\n",
        "print('root('+ str(x) + ') :', '%.4f' %np.sqrt(x))\n",
        "print('square('+ str(x) + ') :', '%.4f' %np.square(x))"
      ],
      "execution_count": 4,
      "outputs": [
        {
          "output_type": "stream",
          "text": [
            "Number? : 3.14\n",
            "abs(3.14) : 3.1400\n",
            "root(3.14) : 1.7720\n",
            "square(3.14) : 9.8596\n"
          ],
          "name": "stdout"
        }
      ]
    }
  ]
}