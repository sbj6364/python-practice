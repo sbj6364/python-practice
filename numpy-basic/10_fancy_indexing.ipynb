{
  "nbformat": 4,
  "nbformat_minor": 0,
  "metadata": {
    "colab": {
      "name": "10_fancy_indexing.ipynb",
      "provenance": [],
      "authorship_tag": "ABX9TyOZtmAo81MjSQp/x0nDbI4o",
      "include_colab_link": true
    },
    "kernelspec": {
      "name": "python3",
      "display_name": "Python 3"
    },
    "language_info": {
      "name": "python"
    }
  },
  "cells": [
    {
      "cell_type": "markdown",
      "metadata": {
        "id": "view-in-github",
        "colab_type": "text"
      },
      "source": [
        "<a href=\"https://colab.research.google.com/github/sbj6364/python-practice/blob/main/numpy-basic/10_fancy_indexing.ipynb\" target=\"_parent\"><img src=\"https://colab.research.google.com/assets/colab-badge.svg\" alt=\"Open In Colab\"/></a>"
      ]
    },
    {
      "cell_type": "markdown",
      "metadata": {
        "id": "_Ct_m_uatHBM"
      },
      "source": [
        "# 10번 : fancy indexing\n",
        "\n",
        "\n",
        "주어진 2차원 numpy array는 행렬을 나타냅니다.  \n",
        "주어진 행렬에서 첫번째 행과, 두번째 열을 출력하는 코드를 작성해보세요.\n",
        "  \n",
        "#### 베이스라인\n",
        "~~~python\n",
        "arr2 = np.array([ [10, 9, 8], [7, 6, 5], [4, 3, 2] ])\n",
        "\n",
        "'''\n",
        "code here\n",
        "'''\n",
        "~~~\n",
        "#### Output\n",
        "~~~\n",
        "array([10, 9, 8])\n",
        "array([9, 6, 3])\n",
        "~~~\n"
      ]
    },
    {
      "cell_type": "code",
      "metadata": {
        "colab": {
          "base_uri": "https://localhost:8080/"
        },
        "id": "-Vr2IwYG1OzJ",
        "outputId": "5c048cfa-cc13-4e6a-e70b-e797511d022c"
      },
      "source": [
        "import numpy as np\n",
        "arr2 = np.array([[10, 9, 8], [7, 6, 5], [4, 3, 2]])\n",
        "\n",
        "print(arr2[0,:])\n",
        "print(arr2[:,1])"
      ],
      "execution_count": 24,
      "outputs": [
        {
          "output_type": "stream",
          "text": [
            "[10  9  8]\n",
            "[9 6 3]\n"
          ],
          "name": "stdout"
        }
      ]
    }
  ]
}